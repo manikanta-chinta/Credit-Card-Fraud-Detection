{
  "nbformat": 4,
  "nbformat_minor": 0,
  "metadata": {
    "kernelspec": {
      "display_name": "Python 3",
      "language": "python",
      "name": "python3"
    },
    "language_info": {
      "codemirror_mode": {
        "name": "ipython",
        "version": 3
      },
      "file_extension": ".py",
      "mimetype": "text/x-python",
      "name": "python",
      "nbconvert_exporter": "python",
      "pygments_lexer": "ipython3",
      "version": "3.7.1"
    },
    "colab": {
      "name": "Credit Card Fraud.ipynb",
      "provenance": [],
      "collapsed_sections": []
    }
  },
  "cells": [
    {
      "cell_type": "code",
      "metadata": {
        "id": "S0_lDPXOEiA1",
        "colab_type": "code",
        "colab": {
          "base_uri": "https://localhost:8080/",
          "height": 121
        },
        "outputId": "b2b73a32-ce82-4298-cbe3-c48aa43e3787"
      },
      "source": [
        "from google.colab import drive\n",
        "drive.mount('/content/drive')"
      ],
      "execution_count": 1,
      "outputs": [
        {
          "output_type": "stream",
          "text": [
            "Go to this URL in a browser: https://accounts.google.com/o/oauth2/auth?client_id=947318989803-6bn6qk8qdgf4n4g3pfee6491hc0brc4i.apps.googleusercontent.com&redirect_uri=urn%3aietf%3awg%3aoauth%3a2.0%3aoob&response_type=code&scope=email%20https%3a%2f%2fwww.googleapis.com%2fauth%2fdocs.test%20https%3a%2f%2fwww.googleapis.com%2fauth%2fdrive%20https%3a%2f%2fwww.googleapis.com%2fauth%2fdrive.photos.readonly%20https%3a%2f%2fwww.googleapis.com%2fauth%2fpeopleapi.readonly\n",
            "\n",
            "Enter your authorization code:\n",
            "··········\n",
            "Mounted at /content/drive\n"
          ],
          "name": "stdout"
        }
      ]
    },
    {
      "cell_type": "code",
      "metadata": {
        "id": "TDTjC9uLEWZa",
        "colab_type": "code",
        "colab": {
          "base_uri": "https://localhost:8080/",
          "height": 70
        },
        "outputId": "e0749257-c8e7-47b0-e32a-a355cd5522fe"
      },
      "source": [
        "import pandas as pd\n",
        "import numpy as np\n",
        "import matplotlib.pyplot as plt\n",
        "import seaborn as sns\n",
        "import warnings\n",
        "from sklearn.preprocessing import RobustScaler\n",
        "warnings.filterwarnings(\"ignore\")"
      ],
      "execution_count": 2,
      "outputs": [
        {
          "output_type": "stream",
          "text": [
            "/usr/local/lib/python3.6/dist-packages/statsmodels/tools/_testing.py:19: FutureWarning: pandas.util.testing is deprecated. Use the functions in the public API at pandas.testing instead.\n",
            "  import pandas.util.testing as tm\n"
          ],
          "name": "stderr"
        }
      ]
    },
    {
      "cell_type": "code",
      "metadata": {
        "id": "pi5opM36TgVv",
        "colab_type": "code",
        "colab": {
          "base_uri": "https://localhost:8080/",
          "height": 252
        },
        "outputId": "b58936be-bdcf-4c1c-df8f-eca02105dd7c"
      },
      "source": [
        "!pip install scikit-plot"
      ],
      "execution_count": 9,
      "outputs": [
        {
          "output_type": "stream",
          "text": [
            "Collecting scikit-plot\n",
            "  Downloading https://files.pythonhosted.org/packages/7c/47/32520e259340c140a4ad27c1b97050dd3254fdc517b1d59974d47037510e/scikit_plot-0.3.7-py3-none-any.whl\n",
            "Requirement already satisfied: matplotlib>=1.4.0 in /usr/local/lib/python3.6/dist-packages (from scikit-plot) (3.2.1)\n",
            "Requirement already satisfied: joblib>=0.10 in /usr/local/lib/python3.6/dist-packages (from scikit-plot) (0.14.1)\n",
            "Requirement already satisfied: scipy>=0.9 in /usr/local/lib/python3.6/dist-packages (from scikit-plot) (1.4.1)\n",
            "Requirement already satisfied: scikit-learn>=0.18 in /usr/local/lib/python3.6/dist-packages (from scikit-plot) (0.22.2.post1)\n",
            "Requirement already satisfied: cycler>=0.10 in /usr/local/lib/python3.6/dist-packages (from matplotlib>=1.4.0->scikit-plot) (0.10.0)\n",
            "Requirement already satisfied: pyparsing!=2.0.4,!=2.1.2,!=2.1.6,>=2.0.1 in /usr/local/lib/python3.6/dist-packages (from matplotlib>=1.4.0->scikit-plot) (2.4.7)\n",
            "Requirement already satisfied: python-dateutil>=2.1 in /usr/local/lib/python3.6/dist-packages (from matplotlib>=1.4.0->scikit-plot) (2.8.1)\n",
            "Requirement already satisfied: numpy>=1.11 in /usr/local/lib/python3.6/dist-packages (from matplotlib>=1.4.0->scikit-plot) (1.18.2)\n",
            "Requirement already satisfied: kiwisolver>=1.0.1 in /usr/local/lib/python3.6/dist-packages (from matplotlib>=1.4.0->scikit-plot) (1.2.0)\n",
            "Requirement already satisfied: six in /usr/local/lib/python3.6/dist-packages (from cycler>=0.10->matplotlib>=1.4.0->scikit-plot) (1.12.0)\n",
            "Installing collected packages: scikit-plot\n",
            "Successfully installed scikit-plot-0.3.7\n"
          ],
          "name": "stdout"
        }
      ]
    },
    {
      "cell_type": "code",
      "metadata": {
        "id": "-VfWxgGsrTEb",
        "colab_type": "code",
        "colab": {
          "base_uri": "https://localhost:8080/",
          "height": 118
        },
        "outputId": "01a56a77-596f-449c-8e6c-806a6a3d0f25"
      },
      "source": [
        "!pip install imblearn"
      ],
      "execution_count": 62,
      "outputs": [
        {
          "output_type": "stream",
          "text": [
            "Requirement already satisfied: imblearn in /usr/local/lib/python3.6/dist-packages (0.0)\n",
            "Requirement already satisfied: imbalanced-learn in /usr/local/lib/python3.6/dist-packages (from imblearn) (0.4.3)\n",
            "Requirement already satisfied: numpy>=1.8.2 in /usr/local/lib/python3.6/dist-packages (from imbalanced-learn->imblearn) (1.18.2)\n",
            "Requirement already satisfied: scikit-learn>=0.20 in /usr/local/lib/python3.6/dist-packages (from imbalanced-learn->imblearn) (0.22.2.post1)\n",
            "Requirement already satisfied: scipy>=0.13.3 in /usr/local/lib/python3.6/dist-packages (from imbalanced-learn->imblearn) (1.4.1)\n",
            "Requirement already satisfied: joblib>=0.11 in /usr/local/lib/python3.6/dist-packages (from scikit-learn>=0.20->imbalanced-learn->imblearn) (0.14.1)\n"
          ],
          "name": "stdout"
        }
      ]
    },
    {
      "cell_type": "code",
      "metadata": {
        "id": "QrEO_hjhJwUZ",
        "colab_type": "code",
        "colab": {
          "base_uri": "https://localhost:8080/",
          "height": 168
        },
        "outputId": "aab35e18-3f2c-4ce3-9727-d175e2dd4b70"
      },
      "source": [
        "!pip install ppscore"
      ],
      "execution_count": 110,
      "outputs": [
        {
          "output_type": "stream",
          "text": [
            "Collecting ppscore\n",
            "  Downloading https://files.pythonhosted.org/packages/4d/0f/32b991b05f392ca2f86587972f5d94d86ea7d6fdb659a607c52a67dbcfcd/ppscore-0.0.2.tar.gz\n",
            "Building wheels for collected packages: ppscore\n",
            "  Building wheel for ppscore (setup.py) ... \u001b[?25l\u001b[?25hdone\n",
            "  Created wheel for ppscore: filename=ppscore-0.0.2-py2.py3-none-any.whl size=9629 sha256=e7361a3a9fd9acb3df1fd28a97bdbbc2e69fb8088523bcf01f6dc63aae13229e\n",
            "  Stored in directory: /root/.cache/pip/wheels/29/32/a2/82782fc09f5cd68e401ff047201d38af8965fb94984db18aa5\n",
            "Successfully built ppscore\n",
            "Installing collected packages: ppscore\n",
            "Successfully installed ppscore-0.0.2\n"
          ],
          "name": "stdout"
        }
      ]
    },
    {
      "cell_type": "code",
      "metadata": {
        "id": "LSzO8HGUTeIm",
        "colab_type": "code",
        "colab": {}
      },
      "source": [
        "from sklearn.linear_model import LogisticRegression\n",
        "from sklearn.svm import SVC\n",
        "from sklearn.neighbors import KNeighborsClassifier\n",
        "from sklearn.tree import DecisionTreeClassifier\n",
        "from sklearn.ensemble import RandomForestClassifier\n",
        "import collections\n",
        "\n",
        "\n",
        "from sklearn.model_selection import train_test_split\n",
        "from sklearn.model_selection import cross_val_score\n",
        "from sklearn.model_selection import GridSearchCV\n",
        "from sklearn import metrics\n",
        "from sklearn.metrics import classification_report, confusion_matrix,precision_recall_fscore_support,accuracy_score\n",
        "\n",
        "from imblearn.over_sampling import SMOTE\n",
        "\n",
        "import ppscore as pps\n",
        "\n",
        "import scikitplot as skplt"
      ],
      "execution_count": 0,
      "outputs": []
    },
    {
      "cell_type": "code",
      "metadata": {
        "id": "1IyP5sQ3EWZe",
        "colab_type": "code",
        "colab": {}
      },
      "source": [
        "cc = pd.read_csv('/content/drive/My Drive/creditcard.csv')"
      ],
      "execution_count": 0,
      "outputs": []
    },
    {
      "cell_type": "code",
      "metadata": {
        "scrolled": true,
        "id": "h56lCtwGEWZg",
        "colab_type": "code",
        "colab": {
          "base_uri": "https://localhost:8080/",
          "height": 215
        },
        "outputId": "d59a6299-be70-4b69-93f1-765c6776026f"
      },
      "source": [
        "cc.head()"
      ],
      "execution_count": 4,
      "outputs": [
        {
          "output_type": "execute_result",
          "data": {
            "text/html": [
              "<div>\n",
              "<style scoped>\n",
              "    .dataframe tbody tr th:only-of-type {\n",
              "        vertical-align: middle;\n",
              "    }\n",
              "\n",
              "    .dataframe tbody tr th {\n",
              "        vertical-align: top;\n",
              "    }\n",
              "\n",
              "    .dataframe thead th {\n",
              "        text-align: right;\n",
              "    }\n",
              "</style>\n",
              "<table border=\"1\" class=\"dataframe\">\n",
              "  <thead>\n",
              "    <tr style=\"text-align: right;\">\n",
              "      <th></th>\n",
              "      <th>Time</th>\n",
              "      <th>V1</th>\n",
              "      <th>V2</th>\n",
              "      <th>V3</th>\n",
              "      <th>V4</th>\n",
              "      <th>V5</th>\n",
              "      <th>V6</th>\n",
              "      <th>V7</th>\n",
              "      <th>V8</th>\n",
              "      <th>V9</th>\n",
              "      <th>V10</th>\n",
              "      <th>V11</th>\n",
              "      <th>V12</th>\n",
              "      <th>V13</th>\n",
              "      <th>V14</th>\n",
              "      <th>V15</th>\n",
              "      <th>V16</th>\n",
              "      <th>V17</th>\n",
              "      <th>V18</th>\n",
              "      <th>V19</th>\n",
              "      <th>V20</th>\n",
              "      <th>V21</th>\n",
              "      <th>V22</th>\n",
              "      <th>V23</th>\n",
              "      <th>V24</th>\n",
              "      <th>V25</th>\n",
              "      <th>V26</th>\n",
              "      <th>V27</th>\n",
              "      <th>V28</th>\n",
              "      <th>Amount</th>\n",
              "      <th>Class</th>\n",
              "    </tr>\n",
              "  </thead>\n",
              "  <tbody>\n",
              "    <tr>\n",
              "      <th>0</th>\n",
              "      <td>0.0</td>\n",
              "      <td>-1.359807</td>\n",
              "      <td>-0.072781</td>\n",
              "      <td>2.536347</td>\n",
              "      <td>1.378155</td>\n",
              "      <td>-0.338321</td>\n",
              "      <td>0.462388</td>\n",
              "      <td>0.239599</td>\n",
              "      <td>0.098698</td>\n",
              "      <td>0.363787</td>\n",
              "      <td>0.090794</td>\n",
              "      <td>-0.551600</td>\n",
              "      <td>-0.617801</td>\n",
              "      <td>-0.991390</td>\n",
              "      <td>-0.311169</td>\n",
              "      <td>1.468177</td>\n",
              "      <td>-0.470401</td>\n",
              "      <td>0.207971</td>\n",
              "      <td>0.025791</td>\n",
              "      <td>0.403993</td>\n",
              "      <td>0.251412</td>\n",
              "      <td>-0.018307</td>\n",
              "      <td>0.277838</td>\n",
              "      <td>-0.110474</td>\n",
              "      <td>0.066928</td>\n",
              "      <td>0.128539</td>\n",
              "      <td>-0.189115</td>\n",
              "      <td>0.133558</td>\n",
              "      <td>-0.021053</td>\n",
              "      <td>149.62</td>\n",
              "      <td>0</td>\n",
              "    </tr>\n",
              "    <tr>\n",
              "      <th>1</th>\n",
              "      <td>0.0</td>\n",
              "      <td>1.191857</td>\n",
              "      <td>0.266151</td>\n",
              "      <td>0.166480</td>\n",
              "      <td>0.448154</td>\n",
              "      <td>0.060018</td>\n",
              "      <td>-0.082361</td>\n",
              "      <td>-0.078803</td>\n",
              "      <td>0.085102</td>\n",
              "      <td>-0.255425</td>\n",
              "      <td>-0.166974</td>\n",
              "      <td>1.612727</td>\n",
              "      <td>1.065235</td>\n",
              "      <td>0.489095</td>\n",
              "      <td>-0.143772</td>\n",
              "      <td>0.635558</td>\n",
              "      <td>0.463917</td>\n",
              "      <td>-0.114805</td>\n",
              "      <td>-0.183361</td>\n",
              "      <td>-0.145783</td>\n",
              "      <td>-0.069083</td>\n",
              "      <td>-0.225775</td>\n",
              "      <td>-0.638672</td>\n",
              "      <td>0.101288</td>\n",
              "      <td>-0.339846</td>\n",
              "      <td>0.167170</td>\n",
              "      <td>0.125895</td>\n",
              "      <td>-0.008983</td>\n",
              "      <td>0.014724</td>\n",
              "      <td>2.69</td>\n",
              "      <td>0</td>\n",
              "    </tr>\n",
              "    <tr>\n",
              "      <th>2</th>\n",
              "      <td>1.0</td>\n",
              "      <td>-1.358354</td>\n",
              "      <td>-1.340163</td>\n",
              "      <td>1.773209</td>\n",
              "      <td>0.379780</td>\n",
              "      <td>-0.503198</td>\n",
              "      <td>1.800499</td>\n",
              "      <td>0.791461</td>\n",
              "      <td>0.247676</td>\n",
              "      <td>-1.514654</td>\n",
              "      <td>0.207643</td>\n",
              "      <td>0.624501</td>\n",
              "      <td>0.066084</td>\n",
              "      <td>0.717293</td>\n",
              "      <td>-0.165946</td>\n",
              "      <td>2.345865</td>\n",
              "      <td>-2.890083</td>\n",
              "      <td>1.109969</td>\n",
              "      <td>-0.121359</td>\n",
              "      <td>-2.261857</td>\n",
              "      <td>0.524980</td>\n",
              "      <td>0.247998</td>\n",
              "      <td>0.771679</td>\n",
              "      <td>0.909412</td>\n",
              "      <td>-0.689281</td>\n",
              "      <td>-0.327642</td>\n",
              "      <td>-0.139097</td>\n",
              "      <td>-0.055353</td>\n",
              "      <td>-0.059752</td>\n",
              "      <td>378.66</td>\n",
              "      <td>0</td>\n",
              "    </tr>\n",
              "    <tr>\n",
              "      <th>3</th>\n",
              "      <td>1.0</td>\n",
              "      <td>-0.966272</td>\n",
              "      <td>-0.185226</td>\n",
              "      <td>1.792993</td>\n",
              "      <td>-0.863291</td>\n",
              "      <td>-0.010309</td>\n",
              "      <td>1.247203</td>\n",
              "      <td>0.237609</td>\n",
              "      <td>0.377436</td>\n",
              "      <td>-1.387024</td>\n",
              "      <td>-0.054952</td>\n",
              "      <td>-0.226487</td>\n",
              "      <td>0.178228</td>\n",
              "      <td>0.507757</td>\n",
              "      <td>-0.287924</td>\n",
              "      <td>-0.631418</td>\n",
              "      <td>-1.059647</td>\n",
              "      <td>-0.684093</td>\n",
              "      <td>1.965775</td>\n",
              "      <td>-1.232622</td>\n",
              "      <td>-0.208038</td>\n",
              "      <td>-0.108300</td>\n",
              "      <td>0.005274</td>\n",
              "      <td>-0.190321</td>\n",
              "      <td>-1.175575</td>\n",
              "      <td>0.647376</td>\n",
              "      <td>-0.221929</td>\n",
              "      <td>0.062723</td>\n",
              "      <td>0.061458</td>\n",
              "      <td>123.50</td>\n",
              "      <td>0</td>\n",
              "    </tr>\n",
              "    <tr>\n",
              "      <th>4</th>\n",
              "      <td>2.0</td>\n",
              "      <td>-1.158233</td>\n",
              "      <td>0.877737</td>\n",
              "      <td>1.548718</td>\n",
              "      <td>0.403034</td>\n",
              "      <td>-0.407193</td>\n",
              "      <td>0.095921</td>\n",
              "      <td>0.592941</td>\n",
              "      <td>-0.270533</td>\n",
              "      <td>0.817739</td>\n",
              "      <td>0.753074</td>\n",
              "      <td>-0.822843</td>\n",
              "      <td>0.538196</td>\n",
              "      <td>1.345852</td>\n",
              "      <td>-1.119670</td>\n",
              "      <td>0.175121</td>\n",
              "      <td>-0.451449</td>\n",
              "      <td>-0.237033</td>\n",
              "      <td>-0.038195</td>\n",
              "      <td>0.803487</td>\n",
              "      <td>0.408542</td>\n",
              "      <td>-0.009431</td>\n",
              "      <td>0.798278</td>\n",
              "      <td>-0.137458</td>\n",
              "      <td>0.141267</td>\n",
              "      <td>-0.206010</td>\n",
              "      <td>0.502292</td>\n",
              "      <td>0.219422</td>\n",
              "      <td>0.215153</td>\n",
              "      <td>69.99</td>\n",
              "      <td>0</td>\n",
              "    </tr>\n",
              "  </tbody>\n",
              "</table>\n",
              "</div>"
            ],
            "text/plain": [
              "   Time        V1        V2        V3  ...       V27       V28  Amount  Class\n",
              "0   0.0 -1.359807 -0.072781  2.536347  ...  0.133558 -0.021053  149.62      0\n",
              "1   0.0  1.191857  0.266151  0.166480  ... -0.008983  0.014724    2.69      0\n",
              "2   1.0 -1.358354 -1.340163  1.773209  ... -0.055353 -0.059752  378.66      0\n",
              "3   1.0 -0.966272 -0.185226  1.792993  ...  0.062723  0.061458  123.50      0\n",
              "4   2.0 -1.158233  0.877737  1.548718  ...  0.219422  0.215153   69.99      0\n",
              "\n",
              "[5 rows x 31 columns]"
            ]
          },
          "metadata": {
            "tags": []
          },
          "execution_count": 4
        }
      ]
    },
    {
      "cell_type": "markdown",
      "metadata": {
        "id": "EnI9IycrEWZk",
        "colab_type": "text"
      },
      "source": [
        "variables V1 - V28 are deidentified customer or trasanction information fields. heopefully these are scaled as can be seen based on the range of each column."
      ]
    },
    {
      "cell_type": "code",
      "metadata": {
        "scrolled": true,
        "id": "qrB8MgQvEWZk",
        "colab_type": "code",
        "colab": {
          "base_uri": "https://localhost:8080/",
          "height": 296
        },
        "outputId": "1fc2f92c-daea-4971-caa3-1debd0dccc0b"
      },
      "source": [
        "sns.countplot(cc['Class'])"
      ],
      "execution_count": 5,
      "outputs": [
        {
          "output_type": "execute_result",
          "data": {
            "text/plain": [
              "<matplotlib.axes._subplots.AxesSubplot at 0x7f3292af72b0>"
            ]
          },
          "metadata": {
            "tags": []
          },
          "execution_count": 5
        },
        {
          "output_type": "display_data",
          "data": {
            "image/png": "[encoded data removed]",
            "text/plain": [
              "<Figure size 432x288 with 1 Axes>"
            ]
          },
          "metadata": {
            "tags": [],
            "needs_background": "light"
          }
        }
      ]
    },
    {
      "cell_type": "code",
      "metadata": {
        "id": "eDOu6T0jEWZn",
        "colab_type": "code",
        "colab": {
          "base_uri": "https://localhost:8080/",
          "height": 84
        },
        "outputId": "5c0239b6-0639-436a-9846-d7ba701748d9"
      },
      "source": [
        "print('Class 0:',len(cc[cc['Class'] == 0]))\n",
        "print('Class 1:',len(cc[cc['Class'] == 1]))\n",
        "print('Class 0:{0:8.2f}%'.format(len(cc[cc['Class'] == 0]) * 100/len(cc)))\n",
        "print('Class 1:{0:8.2f}%'.format(len(cc[cc['Class'] == 1]) * 100/len(cc)))"
      ],
      "execution_count": 6,
      "outputs": [
        {
          "output_type": "stream",
          "text": [
            "Class 0: 284315\n",
            "Class 1: 492\n",
            "Class 0:   99.83%\n",
            "Class 1:    0.17%\n"
          ],
          "name": "stdout"
        }
      ]
    },
    {
      "cell_type": "markdown",
      "metadata": {
        "id": "a8_Y7mfXTD7q",
        "colab_type": "text"
      },
      "source": [
        "Lets try to fit 1 basic and 1 advanced model to this data set to see the performance of the models."
      ]
    },
    {
      "cell_type": "code",
      "metadata": {
        "id": "u7jiRjMhTPTE",
        "colab_type": "code",
        "colab": {}
      },
      "source": [
        "rob_scaler = RobustScaler()\n",
        "\n",
        "cc['Time'] = rob_scaler.fit_transform(cc['Time'].values.reshape(-1,1))\n",
        "cc['Amount'] = rob_scaler.fit_transform(cc['Amount'].values.reshape(-1,1))"
      ],
      "execution_count": 0,
      "outputs": []
    },
    {
      "cell_type": "code",
      "metadata": {
        "id": "OIXaoxvdTY5Y",
        "colab_type": "code",
        "colab": {
          "base_uri": "https://localhost:8080/",
          "height": 554
        },
        "outputId": "e200a15e-8ce1-4dd9-99b9-f68383da419a"
      },
      "source": [
        "cc.isnull().sum()/len(cc)"
      ],
      "execution_count": 31,
      "outputs": [
        {
          "output_type": "execute_result",
          "data": {
            "text/plain": [
              "Time      0.0\n",
              "V1        0.0\n",
              "V2        0.0\n",
              "V3        0.0\n",
              "V4        0.0\n",
              "V5        0.0\n",
              "V6        0.0\n",
              "V7        0.0\n",
              "V8        0.0\n",
              "V9        0.0\n",
              "V10       0.0\n",
              "V11       0.0\n",
              "V12       0.0\n",
              "V13       0.0\n",
              "V14       0.0\n",
              "V15       0.0\n",
              "V16       0.0\n",
              "V17       0.0\n",
              "V18       0.0\n",
              "V19       0.0\n",
              "V20       0.0\n",
              "V21       0.0\n",
              "V22       0.0\n",
              "V23       0.0\n",
              "V24       0.0\n",
              "V25       0.0\n",
              "V26       0.0\n",
              "V27       0.0\n",
              "V28       0.0\n",
              "Amount    0.0\n",
              "Class     0.0\n",
              "dtype: float64"
            ]
          },
          "metadata": {
            "tags": []
          },
          "execution_count": 31
        }
      ]
    },
    {
      "cell_type": "code",
      "metadata": {
        "id": "OViAh-4JJ8Gh",
        "colab_type": "code",
        "colab": {
          "base_uri": "https://localhost:8080/",
          "height": 134
        },
        "outputId": "e0464266-8110-4790-96ba-753c9403c604"
      },
      "source": [
        "imp_cols = []\n",
        "for i in cc.columns:\n",
        "    if pps.score(cc, i, \"Class\")['ppscore'] > 0:\n",
        "        print(i, pps.score(cc, i, \"Class\")['ppscore'])\n",
        "        imp_cols.append(i)"
      ],
      "execution_count": 112,
      "outputs": [
        {
          "output_type": "stream",
          "text": [
            "V10 0.5504822952702065\n",
            "V11 0.328178453526289\n",
            "V12 0.33485266097440686\n",
            "V14 0.6417635910686477\n",
            "V16 0.14299701809245202\n",
            "V17 0.6122440681684805\n",
            "Class 1\n"
          ],
          "name": "stdout"
        }
      ]
    },
    {
      "cell_type": "code",
      "metadata": {
        "id": "jg27ET8kKCoF",
        "colab_type": "code",
        "colab": {
          "base_uri": "https://localhost:8080/",
          "height": 606
        },
        "outputId": "ca905e1f-a7b2-47b3-821c-ea0f7f44aa8f"
      },
      "source": [
        "f, axes = plt.subplots(2, 3, figsize=(15, 10))\n",
        "k=0\n",
        "j=0\n",
        "for i in imp_cols[:-1]:\n",
        "    sns.distplot(cc[cc['Class'] == 0][i],label='Non Fraud',ax=axes[k,j])\n",
        "    sns.distplot(cc[cc['Class'] == 1][i],label='Fraud',ax=axes[k,j])\n",
        "    j+=1\n",
        "    if j==3:\n",
        "      j=0\n",
        "      k+=1\n",
        "plt.legend()\n",
        "plt.show()"
      ],
      "execution_count": 130,
      "outputs": [
        {
          "output_type": "display_data",
          "data": {
            "image/png": "[encoded data removed]",
            "text/plain": [
              "<Figure size 1080x720 with 6 Axes>"
            ]
          },
          "metadata": {
            "tags": [],
            "needs_background": "light"
          }
        }
      ]
    },
    {
      "cell_type": "code",
      "metadata": {
        "colab_type": "code",
        "id": "rjf7K_b5TrFu",
        "colab": {}
      },
      "source": [
        "X = cc.drop(['Class'],axis=1)\n",
        "Y = cc['Class']"
      ],
      "execution_count": 0,
      "outputs": []
    },
    {
      "cell_type": "code",
      "metadata": {
        "colab_type": "code",
        "id": "tvcAyBf5TrF7",
        "colab": {}
      },
      "source": [
        "X_train, X_test, Y_train, Y_test = train_test_split(X, Y, test_size=0.2, random_state=42)"
      ],
      "execution_count": 0,
      "outputs": []
    },
    {
      "cell_type": "code",
      "metadata": {
        "colab_type": "code",
        "id": "2pNIICBKT3py",
        "colab": {}
      },
      "source": [
        "log_params = {\"penalty\": ['l1', 'l2'], 'C': [0.001, 0.01, 0.1, 1, 10, 100, 1000]}"
      ],
      "execution_count": 0,
      "outputs": []
    },
    {
      "cell_type": "code",
      "metadata": {
        "colab_type": "code",
        "outputId": "4864c4a1-d44b-4294-df21-d9eecfae326b",
        "id": "1h5O_kPPT3qB",
        "colab": {
          "base_uri": "https://localhost:8080/",
          "height": 50
        }
      },
      "source": [
        "log_model = GridSearchCV(LogisticRegression(), log_params,cv=5, n_jobs=-1,scoring='recall')\n",
        "log_model.fit(X_train,Y_train)\n",
        "print(log_model.best_params_)\n",
        "print(log_model.best_score_)"
      ],
      "execution_count": 14,
      "outputs": [
        {
          "output_type": "stream",
          "text": [
            "{'C': 10, 'penalty': 'l2'}\n",
            "0.6294709509899383\n"
          ],
          "name": "stdout"
        }
      ]
    },
    {
      "cell_type": "code",
      "metadata": {
        "colab_type": "code",
        "id": "xWp7z9SyUFEw",
        "colab": {}
      },
      "source": [
        "log_model = LogisticRegression(C=10,penalty='l2',random_state=42)\n",
        "log_model.fit(X_train, Y_train)\n",
        "\n",
        "y_score = log_model.predict_proba(X_test)"
      ],
      "execution_count": 0,
      "outputs": []
    },
    {
      "cell_type": "code",
      "metadata": {
        "colab_type": "code",
        "outputId": "5c527670-2b86-4d78-9d75-62b951f7db1d",
        "id": "GlDJBiJ4UFFF",
        "colab": {
          "base_uri": "https://localhost:8080/",
          "height": 34
        }
      },
      "source": [
        "y_pred = log_model.fit(X_train, Y_train).predict(X_test)\n",
        "Logit_test = metrics.recall_score(Y_test, y_pred)\n",
        "print(\"Logistic test score:\",Logit_test)"
      ],
      "execution_count": 16,
      "outputs": [
        {
          "output_type": "stream",
          "text": [
            "Logistic test score: 0.5816326530612245\n"
          ],
          "name": "stdout"
        }
      ]
    },
    {
      "cell_type": "code",
      "metadata": {
        "colab_type": "code",
        "outputId": "86cd4b3d-2237-4eec-dd87-6f75e7cc72c1",
        "id": "pjZqz_A9UFFR",
        "colab": {
          "base_uri": "https://localhost:8080/",
          "height": 791
        }
      },
      "source": [
        "conf_mat = confusion_matrix(Y_test, y_pred)\n",
        "accuracy = accuracy_score(Y_test, y_pred)\n",
        "score = precision_recall_fscore_support(Y_test, y_pred, average='weighted')\n",
        "precision, recall, fscore, k = score\n",
        "skplt.metrics.plot_confusion_matrix(Y_test, y_pred)\n",
        "skplt.metrics.plot_precision_recall_curve(Y_test, y_score)\n",
        "print(classification_report(Y_test, y_pred))\n",
        "print(\"Accuracy:\",accuracy)\n",
        "print(\"Precision:\",precision)\n",
        "print(\"Recall:\",recall)\n",
        "print(\"F score:\",fscore)"
      ],
      "execution_count": 17,
      "outputs": [
        {
          "output_type": "stream",
          "text": [
            "              precision    recall  f1-score   support\n",
            "\n",
            "           0       1.00      1.00      1.00     56864\n",
            "           1       0.86      0.58      0.70        98\n",
            "\n",
            "    accuracy                           1.00     56962\n",
            "   macro avg       0.93      0.79      0.85     56962\n",
            "weighted avg       1.00      1.00      1.00     56962\n",
            "\n",
            "Accuracy: 0.9991222218320986\n",
            "Precision: 0.9990460205620223\n",
            "Recall: 0.9991222218320986\n",
            "F score: 0.9990367083945141\n"
          ],
          "name": "stdout"
        },
        {
          "output_type": "display_data",
          "data": {
            "image/png": "[encoded data removed]",
            "text/plain": [
              "<Figure size 432x288 with 2 Axes>"
            ]
          },
          "metadata": {
            "tags": [],
            "needs_background": "light"
          }
        },
        {
          "output_type": "display_data",
          "data": {
            "image/png": "[encoded data removed]",
            "text/plain": [
              "<Figure size 432x288 with 1 Axes>"
            ]
          },
          "metadata": {
            "tags": [],
            "needs_background": "light"
          }
        }
      ]
    },
    {
      "cell_type": "code",
      "metadata": {
        "id": "f-yFet-KTui9",
        "colab_type": "code",
        "colab": {
          "base_uri": "https://localhost:8080/",
          "height": 151
        },
        "outputId": "e7cd2554-ead2-449f-b7d4-eb20d8e421a4"
      },
      "source": [
        "!pip install bayesian-optimization"
      ],
      "execution_count": 22,
      "outputs": [
        {
          "output_type": "stream",
          "text": [
            "Collecting bayesian-optimization\n",
            "  Downloading https://files.pythonhosted.org/packages/b5/26/9842333adbb8f17bcb3d699400a8b1ccde0af0b6de8d07224e183728acdf/bayesian_optimization-1.1.0-py3-none-any.whl\n",
            "Requirement already satisfied: scikit-learn>=0.18.0 in /usr/local/lib/python3.6/dist-packages (from bayesian-optimization) (0.22.2.post1)\n",
            "Requirement already satisfied: numpy>=1.9.0 in /usr/local/lib/python3.6/dist-packages (from bayesian-optimization) (1.18.2)\n",
            "Requirement already satisfied: scipy>=0.14.0 in /usr/local/lib/python3.6/dist-packages (from bayesian-optimization) (1.4.1)\n",
            "Requirement already satisfied: joblib>=0.11 in /usr/local/lib/python3.6/dist-packages (from scikit-learn>=0.18.0->bayesian-optimization) (0.14.1)\n",
            "Installing collected packages: bayesian-optimization\n",
            "Successfully installed bayesian-optimization-1.1.0\n"
          ],
          "name": "stdout"
        }
      ]
    },
    {
      "cell_type": "code",
      "metadata": {
        "id": "GqMBuPW7Uzl-",
        "colab_type": "code",
        "colab": {}
      },
      "source": [
        "from bayes_opt import BayesianOptimization\n",
        "import xgboost as xgb"
      ],
      "execution_count": 0,
      "outputs": []
    },
    {
      "cell_type": "code",
      "metadata": {
        "id": "0j_5spUyVLa6",
        "colab_type": "code",
        "colab": {
          "base_uri": "https://localhost:8080/",
          "height": 286
        },
        "outputId": "14984dc2-dc41-4a8e-e82b-43a39ea337d9"
      },
      "source": [
        "dtrain = xgb.DMatrix(X_train, label=Y_train)\n",
        "\n",
        "#Bayesian Optimization function for xgboost\n",
        "#specify the parameters you want to tune as keyword arguments\n",
        "def bo_tune_xgb(max_depth, gamma, n_estimators ,learning_rate):\n",
        "  params = {'max_depth': int(max_depth),\n",
        "              'gamma': gamma,\n",
        "              'n_estimators': int(n_estimators),\n",
        "              'learning_rate':learning_rate,\n",
        "              'subsample': 0.8,\n",
        "              'eta': 0.1,\n",
        "              'eval_metric': 'auc'}\n",
        "    #Cross validating with the specified parameters in 5 folds and 70 iterations\n",
        "  cv_result = xgb.cv(params, dtrain, num_boost_round=70, nfold=5)\n",
        "    #Return the auc\n",
        "  return cv_result['test-auc-mean'].iloc[-1]\n",
        "\n",
        "#Invoking the Bayesian Optimizer with the specified parameters to tune\n",
        "xgb_bo = BayesianOptimization(bo_tune_xgb, {'max_depth': (3, 10),\n",
        "                                             'gamma': (0, 1),\n",
        "                                             'learning_rate':(0,1),\n",
        "                                             'n_estimators':(100,1000)\n",
        "                                            })\n",
        "\n",
        "#performing Bayesian optimization for 5 iterations with 8 steps of random exploration with an #acquisition function of expected improvement\n",
        "xgb_bo.maximize(n_iter=5, init_points=8, acq='ei')"
      ],
      "execution_count": 27,
      "outputs": [
        {
          "output_type": "stream",
          "text": [
            "|   iter    |  target   |   gamma   | learni... | max_depth | n_esti... |\n",
            "-------------------------------------------------------------------------\n",
            "| \u001b[0m 1       \u001b[0m | \u001b[0m 0.9194  \u001b[0m | \u001b[0m 0.7902  \u001b[0m | \u001b[0m 0.8131  \u001b[0m | \u001b[0m 9.848   \u001b[0m | \u001b[0m 833.2   \u001b[0m |\n",
            "| \u001b[95m 2       \u001b[0m | \u001b[95m 0.9612  \u001b[0m | \u001b[95m 0.1614  \u001b[0m | \u001b[95m 0.1917  \u001b[0m | \u001b[95m 4.944   \u001b[0m | \u001b[95m 963.9   \u001b[0m |\n",
            "| \u001b[0m 3       \u001b[0m | \u001b[0m 0.9167  \u001b[0m | \u001b[0m 0.7439  \u001b[0m | \u001b[0m 0.1672  \u001b[0m | \u001b[0m 3.105   \u001b[0m | \u001b[0m 235.9   \u001b[0m |\n",
            "| \u001b[0m 4       \u001b[0m | \u001b[0m 0.9545  \u001b[0m | \u001b[0m 0.1953  \u001b[0m | \u001b[0m 0.4812  \u001b[0m | \u001b[0m 4.01    \u001b[0m | \u001b[0m 103.8   \u001b[0m |\n",
            "| \u001b[0m 5       \u001b[0m | \u001b[0m 0.9522  \u001b[0m | \u001b[0m 0.05337 \u001b[0m | \u001b[0m 0.5522  \u001b[0m | \u001b[0m 5.676   \u001b[0m | \u001b[0m 431.1   \u001b[0m |\n",
            "| \u001b[0m 6       \u001b[0m | \u001b[0m 0.9101  \u001b[0m | \u001b[0m 0.7267  \u001b[0m | \u001b[0m 0.9355  \u001b[0m | \u001b[0m 4.206   \u001b[0m | \u001b[0m 711.1   \u001b[0m |\n",
            "| \u001b[0m 7       \u001b[0m | \u001b[0m 0.9519  \u001b[0m | \u001b[0m 0.05765 \u001b[0m | \u001b[0m 0.5198  \u001b[0m | \u001b[0m 3.379   \u001b[0m | \u001b[0m 407.4   \u001b[0m |\n",
            "| \u001b[0m 8       \u001b[0m | \u001b[0m 0.9512  \u001b[0m | \u001b[0m 0.1203  \u001b[0m | \u001b[0m 0.5753  \u001b[0m | \u001b[0m 8.469   \u001b[0m | \u001b[0m 518.1   \u001b[0m |\n",
            "| \u001b[0m 9       \u001b[0m | \u001b[0m 0.9259  \u001b[0m | \u001b[0m 0.7561  \u001b[0m | \u001b[0m 0.6701  \u001b[0m | \u001b[0m 5.799   \u001b[0m | \u001b[0m 1e+03   \u001b[0m |\n",
            "| \u001b[0m 10      \u001b[0m | \u001b[0m 0.918   \u001b[0m | \u001b[0m 0.127   \u001b[0m | \u001b[0m 0.004992\u001b[0m | \u001b[0m 7.853   \u001b[0m | \u001b[0m 963.5   \u001b[0m |\n",
            "| \u001b[0m 11      \u001b[0m | \u001b[0m 0.9118  \u001b[0m | \u001b[0m 0.2424  \u001b[0m | \u001b[0m 0.9158  \u001b[0m | \u001b[0m 3.071   \u001b[0m | \u001b[0m 892.7   \u001b[0m |\n",
            "| \u001b[0m 12      \u001b[0m | \u001b[0m 0.8995  \u001b[0m | \u001b[0m 1.0     \u001b[0m | \u001b[0m 1.0     \u001b[0m | \u001b[0m 3.0     \u001b[0m | \u001b[0m 790.1   \u001b[0m |\n",
            "| \u001b[0m 13      \u001b[0m | \u001b[0m 0.8995  \u001b[0m | \u001b[0m 1.0     \u001b[0m | \u001b[0m 1.0     \u001b[0m | \u001b[0m 3.0     \u001b[0m | \u001b[0m 615.0   \u001b[0m |\n",
            "=========================================================================\n"
          ],
          "name": "stdout"
        }
      ]
    },
    {
      "cell_type": "code",
      "metadata": {
        "colab_type": "code",
        "id": "OSRd0xwPd326",
        "colab": {}
      },
      "source": [
        "xgb_model = xgb.XGBClassifier(n_estimators=964,learning_rate=0.19,gamma=0.16,max_depth=5)\n",
        "xgb_model.fit(X_train, Y_train)\n",
        "\n",
        "y_score = xgb_model.predict_proba(X_test)"
      ],
      "execution_count": 0,
      "outputs": []
    },
    {
      "cell_type": "code",
      "metadata": {
        "colab_type": "code",
        "outputId": "d11ac5ec-65b8-4df4-b337-4a90a348b590",
        "id": "-EGec_cRd33L",
        "colab": {
          "base_uri": "https://localhost:8080/",
          "height": 34
        }
      },
      "source": [
        "y_pred = xgb_model.predict(X_test)\n",
        "xgb_test = metrics.recall_score(Y_test, y_pred)\n",
        "print(\"XGB test score:\",xgb_test)"
      ],
      "execution_count": 29,
      "outputs": [
        {
          "output_type": "stream",
          "text": [
            "XGB test score: 0.8061224489795918\n"
          ],
          "name": "stdout"
        }
      ]
    },
    {
      "cell_type": "code",
      "metadata": {
        "colab_type": "code",
        "outputId": "f4d4351a-cf2f-454e-9c81-9d45cc054744",
        "id": "5ESi75-yd33W",
        "colab": {
          "base_uri": "https://localhost:8080/",
          "height": 791
        }
      },
      "source": [
        "conf_mat = confusion_matrix(Y_test, y_pred)\n",
        "accuracy = accuracy_score(Y_test, y_pred)\n",
        "score = precision_recall_fscore_support(Y_test, y_pred, average='weighted')\n",
        "precision, recall, fscore, k = score\n",
        "skplt.metrics.plot_confusion_matrix(Y_test, y_pred)\n",
        "skplt.metrics.plot_precision_recall_curve(Y_test, y_score)\n",
        "print(classification_report(Y_test, y_pred))\n",
        "print(\"Accuracy:\",accuracy)\n",
        "print(\"Precision:\",precision)\n",
        "print(\"Recall:\",recall)\n",
        "print(\"F score:\",fscore)"
      ],
      "execution_count": 30,
      "outputs": [
        {
          "output_type": "stream",
          "text": [
            "              precision    recall  f1-score   support\n",
            "\n",
            "           0       1.00      1.00      1.00     56864\n",
            "           1       0.99      0.81      0.89        98\n",
            "\n",
            "    accuracy                           1.00     56962\n",
            "   macro avg       0.99      0.90      0.94     56962\n",
            "weighted avg       1.00      1.00      1.00     56962\n",
            "\n",
            "Accuracy: 0.9996488887328394\n",
            "Precision: 0.9996450442829751\n",
            "Recall: 0.9996488887328394\n",
            "F score: 0.9996311636971695\n"
          ],
          "name": "stdout"
        },
        {
          "output_type": "display_data",
          "data": {
            "image/png": "[encoded data removed]",
            "text/plain": [
              "<Figure size 432x288 with 2 Axes>"
            ]
          },
          "metadata": {
            "tags": [],
            "needs_background": "light"
          }
        },
        {
          "output_type": "display_data",
          "data": {
            "image/png": "[encoded data removed]",
            "text/plain": [
              "<Figure size 432x288 with 1 Axes>"
            ]
          },
          "metadata": {
            "tags": [],
            "needs_background": "light"
          }
        }
      ]
    },
    {
      "cell_type": "markdown",
      "metadata": {
        "id": "DdJEVC_Jj_vV",
        "colab_type": "text"
      },
      "source": [
        "XGboost does really good job at this even on the imbalanced data. Lets try the below 3 different approaches from here on to check if we can improve this performance.\n",
        "\n",
        "1) Undersmaple the class 0\n",
        "\n",
        "2) Oversample the class 1\n",
        "\n",
        "3) Combination of above 2"
      ]
    },
    {
      "cell_type": "markdown",
      "metadata": {
        "id": "cFrQGwX2EWZs",
        "colab_type": "text"
      },
      "source": [
        "\n",
        "The test will remain the same to ensure the same ground comparision for all approaches. We are going to perform the above approaches on the training data."
      ]
    },
    {
      "cell_type": "markdown",
      "metadata": {
        "id": "v4IV2-W3EWZt",
        "colab_type": "text"
      },
      "source": [
        "### Undersampling Class 0"
      ]
    },
    {
      "cell_type": "code",
      "metadata": {
        "id": "l6TZ49kcEWZu",
        "colab_type": "code",
        "colab": {
          "base_uri": "https://localhost:8080/",
          "height": 67
        },
        "outputId": "e4ed0365-737e-4106-90fe-339070d7de84"
      },
      "source": [
        "Y_train.value_counts()"
      ],
      "execution_count": 36,
      "outputs": [
        {
          "output_type": "execute_result",
          "data": {
            "text/plain": [
              "0    227451\n",
              "1       394\n",
              "Name: Class, dtype: int64"
            ]
          },
          "metadata": {
            "tags": []
          },
          "execution_count": 36
        }
      ]
    },
    {
      "cell_type": "code",
      "metadata": {
        "id": "sOD729y6o5tq",
        "colab_type": "code",
        "colab": {}
      },
      "source": [
        "cc_0 = pd.concat([X_train,Y_train],axis=1)"
      ],
      "execution_count": 0,
      "outputs": []
    },
    {
      "cell_type": "code",
      "metadata": {
        "id": "5wA-UgSspSV5",
        "colab_type": "code",
        "colab": {}
      },
      "source": [
        "cc_1 = cc_0[cc_0['Class']==1]\n",
        "cc_0 = cc_0[cc_0['Class']==0]"
      ],
      "execution_count": 0,
      "outputs": []
    },
    {
      "cell_type": "markdown",
      "metadata": {
        "id": "USgDLbJFlABm",
        "colab_type": "text"
      },
      "source": [
        "We can take a random sample of size 394 from the class 0 and then run ML models to see the performance of the models in this data and the original dataset as the real world predictions need to be on the original data."
      ]
    },
    {
      "cell_type": "code",
      "metadata": {
        "id": "dpqBXpIqEWZw",
        "colab_type": "code",
        "colab": {}
      },
      "source": [
        "from sklearn.model_selection import StratifiedShuffleSplit"
      ],
      "execution_count": 0,
      "outputs": []
    },
    {
      "cell_type": "code",
      "metadata": {
        "id": "vQiJnqIqEWZy",
        "colab_type": "code",
        "colab": {
          "base_uri": "https://localhost:8080/",
          "height": 215
        },
        "outputId": "d04d6e7a-a374-481c-f5e6-b0bdd8944551"
      },
      "source": [
        "split = StratifiedShuffleSplit(n_splits=1, test_size=0.0018, random_state=42)\n",
        "for train_index, test_index in split.split(cc_0, cc_0['Class']):\n",
        "    strat_train_set = cc_0.iloc[train_index,:]\n",
        "    strat_test_set = cc_0.iloc[test_index,:]\n",
        "strat_test_set.head()"
      ],
      "execution_count": 44,
      "outputs": [
        {
          "output_type": "execute_result",
          "data": {
            "text/html": [
              "<div>\n",
              "<style scoped>\n",
              "    .dataframe tbody tr th:only-of-type {\n",
              "        vertical-align: middle;\n",
              "    }\n",
              "\n",
              "    .dataframe tbody tr th {\n",
              "        vertical-align: top;\n",
              "    }\n",
              "\n",
              "    .dataframe thead th {\n",
              "        text-align: right;\n",
              "    }\n",
              "</style>\n",
              "<table border=\"1\" class=\"dataframe\">\n",
              "  <thead>\n",
              "    <tr style=\"text-align: right;\">\n",
              "      <th></th>\n",
              "      <th>Time</th>\n",
              "      <th>V1</th>\n",
              "      <th>V2</th>\n",
              "      <th>V3</th>\n",
              "      <th>V4</th>\n",
              "      <th>V5</th>\n",
              "      <th>V6</th>\n",
              "      <th>V7</th>\n",
              "      <th>V8</th>\n",
              "      <th>V9</th>\n",
              "      <th>V10</th>\n",
              "      <th>V11</th>\n",
              "      <th>V12</th>\n",
              "      <th>V13</th>\n",
              "      <th>V14</th>\n",
              "      <th>V15</th>\n",
              "      <th>V16</th>\n",
              "      <th>V17</th>\n",
              "      <th>V18</th>\n",
              "      <th>V19</th>\n",
              "      <th>V20</th>\n",
              "      <th>V21</th>\n",
              "      <th>V22</th>\n",
              "      <th>V23</th>\n",
              "      <th>V24</th>\n",
              "      <th>V25</th>\n",
              "      <th>V26</th>\n",
              "      <th>V27</th>\n",
              "      <th>V28</th>\n",
              "      <th>Amount</th>\n",
              "      <th>Class</th>\n",
              "    </tr>\n",
              "  </thead>\n",
              "  <tbody>\n",
              "    <tr>\n",
              "      <th>87268</th>\n",
              "      <td>-0.271209</td>\n",
              "      <td>-0.523557</td>\n",
              "      <td>0.419637</td>\n",
              "      <td>0.521676</td>\n",
              "      <td>-2.205197</td>\n",
              "      <td>1.021148</td>\n",
              "      <td>0.411423</td>\n",
              "      <td>1.051972</td>\n",
              "      <td>0.214867</td>\n",
              "      <td>0.320478</td>\n",
              "      <td>-1.804641</td>\n",
              "      <td>0.727641</td>\n",
              "      <td>1.257002</td>\n",
              "      <td>0.537520</td>\n",
              "      <td>0.418545</td>\n",
              "      <td>1.589079</td>\n",
              "      <td>-1.798652</td>\n",
              "      <td>0.695392</td>\n",
              "      <td>-2.485828</td>\n",
              "      <td>-1.505691</td>\n",
              "      <td>-0.183362</td>\n",
              "      <td>-0.063195</td>\n",
              "      <td>-0.073153</td>\n",
              "      <td>0.316542</td>\n",
              "      <td>-0.993255</td>\n",
              "      <td>-0.829123</td>\n",
              "      <td>-1.194567</td>\n",
              "      <td>0.246902</td>\n",
              "      <td>0.180463</td>\n",
              "      <td>0.418221</td>\n",
              "      <td>0</td>\n",
              "    </tr>\n",
              "    <tr>\n",
              "      <th>208581</th>\n",
              "      <td>0.616678</td>\n",
              "      <td>2.097934</td>\n",
              "      <td>-0.006747</td>\n",
              "      <td>-1.337829</td>\n",
              "      <td>0.248597</td>\n",
              "      <td>0.290266</td>\n",
              "      <td>-0.788011</td>\n",
              "      <td>0.258939</td>\n",
              "      <td>-0.359142</td>\n",
              "      <td>0.410758</td>\n",
              "      <td>0.036570</td>\n",
              "      <td>-1.159424</td>\n",
              "      <td>0.833565</td>\n",
              "      <td>1.357236</td>\n",
              "      <td>0.002575</td>\n",
              "      <td>-0.037019</td>\n",
              "      <td>0.042363</td>\n",
              "      <td>-0.605988</td>\n",
              "      <td>-0.786353</td>\n",
              "      <td>0.396379</td>\n",
              "      <td>-0.112346</td>\n",
              "      <td>-0.316881</td>\n",
              "      <td>-0.734260</td>\n",
              "      <td>0.234395</td>\n",
              "      <td>-0.622309</td>\n",
              "      <td>-0.169183</td>\n",
              "      <td>0.234098</td>\n",
              "      <td>-0.065344</td>\n",
              "      <td>-0.063178</td>\n",
              "      <td>-0.181793</td>\n",
              "      <td>0</td>\n",
              "    </tr>\n",
              "    <tr>\n",
              "      <th>71437</th>\n",
              "      <td>-0.357100</td>\n",
              "      <td>1.295257</td>\n",
              "      <td>0.226208</td>\n",
              "      <td>0.301398</td>\n",
              "      <td>0.505498</td>\n",
              "      <td>-0.251137</td>\n",
              "      <td>-0.711508</td>\n",
              "      <td>0.041182</td>\n",
              "      <td>-0.165244</td>\n",
              "      <td>0.101775</td>\n",
              "      <td>-0.060599</td>\n",
              "      <td>-0.686807</td>\n",
              "      <td>0.125532</td>\n",
              "      <td>0.253069</td>\n",
              "      <td>0.239127</td>\n",
              "      <td>1.084646</td>\n",
              "      <td>0.455063</td>\n",
              "      <td>-0.595561</td>\n",
              "      <td>-0.361515</td>\n",
              "      <td>0.069828</td>\n",
              "      <td>-0.086693</td>\n",
              "      <td>-0.291910</td>\n",
              "      <td>-0.848371</td>\n",
              "      <td>0.076693</td>\n",
              "      <td>-0.124014</td>\n",
              "      <td>0.278886</td>\n",
              "      <td>0.125990</td>\n",
              "      <td>-0.030685</td>\n",
              "      <td>0.013646</td>\n",
              "      <td>-0.282401</td>\n",
              "      <td>0</td>\n",
              "    </tr>\n",
              "    <tr>\n",
              "      <th>150295</th>\n",
              "      <td>0.097428</td>\n",
              "      <td>2.045364</td>\n",
              "      <td>-0.299853</td>\n",
              "      <td>-0.513844</td>\n",
              "      <td>0.490228</td>\n",
              "      <td>-0.210895</td>\n",
              "      <td>0.031482</td>\n",
              "      <td>-0.679271</td>\n",
              "      <td>-0.104368</td>\n",
              "      <td>2.760035</td>\n",
              "      <td>-0.548524</td>\n",
              "      <td>-0.895892</td>\n",
              "      <td>-2.134388</td>\n",
              "      <td>2.368206</td>\n",
              "      <td>1.089301</td>\n",
              "      <td>-0.234637</td>\n",
              "      <td>0.326563</td>\n",
              "      <td>-0.167174</td>\n",
              "      <td>0.755773</td>\n",
              "      <td>-0.049416</td>\n",
              "      <td>-0.197630</td>\n",
              "      <td>-0.018010</td>\n",
              "      <td>0.474950</td>\n",
              "      <td>-0.005344</td>\n",
              "      <td>-1.027380</td>\n",
              "      <td>0.031966</td>\n",
              "      <td>-0.191122</td>\n",
              "      <td>0.015914</td>\n",
              "      <td>-0.051745</td>\n",
              "      <td>-0.125900</td>\n",
              "      <td>0</td>\n",
              "    </tr>\n",
              "    <tr>\n",
              "      <th>93899</th>\n",
              "      <td>-0.235611</td>\n",
              "      <td>-0.329882</td>\n",
              "      <td>0.948924</td>\n",
              "      <td>0.930639</td>\n",
              "      <td>-0.143105</td>\n",
              "      <td>0.422714</td>\n",
              "      <td>-0.142072</td>\n",
              "      <td>0.496805</td>\n",
              "      <td>0.208572</td>\n",
              "      <td>-0.091974</td>\n",
              "      <td>-0.502930</td>\n",
              "      <td>-0.927389</td>\n",
              "      <td>-1.133127</td>\n",
              "      <td>-1.468384</td>\n",
              "      <td>-0.107826</td>\n",
              "      <td>1.384312</td>\n",
              "      <td>0.380434</td>\n",
              "      <td>0.120170</td>\n",
              "      <td>-0.144314</td>\n",
              "      <td>-0.164193</td>\n",
              "      <td>-0.008370</td>\n",
              "      <td>-0.304748</td>\n",
              "      <td>-0.846746</td>\n",
              "      <td>-0.060360</td>\n",
              "      <td>-0.749705</td>\n",
              "      <td>-0.194958</td>\n",
              "      <td>0.152296</td>\n",
              "      <td>0.250968</td>\n",
              "      <td>0.083698</td>\n",
              "      <td>-0.294977</td>\n",
              "      <td>0</td>\n",
              "    </tr>\n",
              "  </tbody>\n",
              "</table>\n",
              "</div>"
            ],
            "text/plain": [
              "            Time        V1        V2  ...       V28    Amount  Class\n",
              "87268  -0.271209 -0.523557  0.419637  ...  0.180463  0.418221      0\n",
              "208581  0.616678  2.097934 -0.006747  ... -0.063178 -0.181793      0\n",
              "71437  -0.357100  1.295257  0.226208  ...  0.013646 -0.282401      0\n",
              "150295  0.097428  2.045364 -0.299853  ... -0.051745 -0.125900      0\n",
              "93899  -0.235611 -0.329882  0.948924  ...  0.083698 -0.294977      0\n",
              "\n",
              "[5 rows x 31 columns]"
            ]
          },
          "metadata": {
            "tags": []
          },
          "execution_count": 44
        }
      ]
    },
    {
      "cell_type": "code",
      "metadata": {
        "id": "35i716niEWZ0",
        "colab_type": "code",
        "colab": {}
      },
      "source": [
        "us_cc = pd.concat([strat_test_set, cc_1])"
      ],
      "execution_count": 0,
      "outputs": []
    },
    {
      "cell_type": "code",
      "metadata": {
        "id": "1jcvkKXzphzw",
        "colab_type": "code",
        "colab": {
          "base_uri": "https://localhost:8080/",
          "height": 422
        },
        "outputId": "f6a87df8-6ff2-4044-ea99-c186d01f332b"
      },
      "source": [
        "us_cc"
      ],
      "execution_count": 47,
      "outputs": [
        {
          "output_type": "execute_result",
          "data": {
            "text/html": [
              "<div>\n",
              "<style scoped>\n",
              "    .dataframe tbody tr th:only-of-type {\n",
              "        vertical-align: middle;\n",
              "    }\n",
              "\n",
              "    .dataframe tbody tr th {\n",
              "        vertical-align: top;\n",
              "    }\n",
              "\n",
              "    .dataframe thead th {\n",
              "        text-align: right;\n",
              "    }\n",
              "</style>\n",
              "<table border=\"1\" class=\"dataframe\">\n",
              "  <thead>\n",
              "    <tr style=\"text-align: right;\">\n",
              "      <th></th>\n",
              "      <th>Time</th>\n",
              "      <th>V1</th>\n",
              "      <th>V2</th>\n",
              "      <th>V3</th>\n",
              "      <th>V4</th>\n",
              "      <th>V5</th>\n",
              "      <th>V6</th>\n",
              "      <th>V7</th>\n",
              "      <th>V8</th>\n",
              "      <th>V9</th>\n",
              "      <th>V10</th>\n",
              "      <th>V11</th>\n",
              "      <th>V12</th>\n",
              "      <th>V13</th>\n",
              "      <th>V14</th>\n",
              "      <th>V15</th>\n",
              "      <th>V16</th>\n",
              "      <th>V17</th>\n",
              "      <th>V18</th>\n",
              "      <th>V19</th>\n",
              "      <th>V20</th>\n",
              "      <th>V21</th>\n",
              "      <th>V22</th>\n",
              "      <th>V23</th>\n",
              "      <th>V24</th>\n",
              "      <th>V25</th>\n",
              "      <th>V26</th>\n",
              "      <th>V27</th>\n",
              "      <th>V28</th>\n",
              "      <th>Amount</th>\n",
              "      <th>Class</th>\n",
              "    </tr>\n",
              "  </thead>\n",
              "  <tbody>\n",
              "    <tr>\n",
              "      <th>87268</th>\n",
              "      <td>-0.271209</td>\n",
              "      <td>-0.523557</td>\n",
              "      <td>0.419637</td>\n",
              "      <td>0.521676</td>\n",
              "      <td>-2.205197</td>\n",
              "      <td>1.021148</td>\n",
              "      <td>0.411423</td>\n",
              "      <td>1.051972</td>\n",
              "      <td>0.214867</td>\n",
              "      <td>0.320478</td>\n",
              "      <td>-1.804641</td>\n",
              "      <td>0.727641</td>\n",
              "      <td>1.257002</td>\n",
              "      <td>0.537520</td>\n",
              "      <td>0.418545</td>\n",
              "      <td>1.589079</td>\n",
              "      <td>-1.798652</td>\n",
              "      <td>0.695392</td>\n",
              "      <td>-2.485828</td>\n",
              "      <td>-1.505691</td>\n",
              "      <td>-0.183362</td>\n",
              "      <td>-0.063195</td>\n",
              "      <td>-0.073153</td>\n",
              "      <td>0.316542</td>\n",
              "      <td>-0.993255</td>\n",
              "      <td>-0.829123</td>\n",
              "      <td>-1.194567</td>\n",
              "      <td>0.246902</td>\n",
              "      <td>0.180463</td>\n",
              "      <td>0.418221</td>\n",
              "      <td>0</td>\n",
              "    </tr>\n",
              "    <tr>\n",
              "      <th>208581</th>\n",
              "      <td>0.616678</td>\n",
              "      <td>2.097934</td>\n",
              "      <td>-0.006747</td>\n",
              "      <td>-1.337829</td>\n",
              "      <td>0.248597</td>\n",
              "      <td>0.290266</td>\n",
              "      <td>-0.788011</td>\n",
              "      <td>0.258939</td>\n",
              "      <td>-0.359142</td>\n",
              "      <td>0.410758</td>\n",
              "      <td>0.036570</td>\n",
              "      <td>-1.159424</td>\n",
              "      <td>0.833565</td>\n",
              "      <td>1.357236</td>\n",
              "      <td>0.002575</td>\n",
              "      <td>-0.037019</td>\n",
              "      <td>0.042363</td>\n",
              "      <td>-0.605988</td>\n",
              "      <td>-0.786353</td>\n",
              "      <td>0.396379</td>\n",
              "      <td>-0.112346</td>\n",
              "      <td>-0.316881</td>\n",
              "      <td>-0.734260</td>\n",
              "      <td>0.234395</td>\n",
              "      <td>-0.622309</td>\n",
              "      <td>-0.169183</td>\n",
              "      <td>0.234098</td>\n",
              "      <td>-0.065344</td>\n",
              "      <td>-0.063178</td>\n",
              "      <td>-0.181793</td>\n",
              "      <td>0</td>\n",
              "    </tr>\n",
              "    <tr>\n",
              "      <th>71437</th>\n",
              "      <td>-0.357100</td>\n",
              "      <td>1.295257</td>\n",
              "      <td>0.226208</td>\n",
              "      <td>0.301398</td>\n",
              "      <td>0.505498</td>\n",
              "      <td>-0.251137</td>\n",
              "      <td>-0.711508</td>\n",
              "      <td>0.041182</td>\n",
              "      <td>-0.165244</td>\n",
              "      <td>0.101775</td>\n",
              "      <td>-0.060599</td>\n",
              "      <td>-0.686807</td>\n",
              "      <td>0.125532</td>\n",
              "      <td>0.253069</td>\n",
              "      <td>0.239127</td>\n",
              "      <td>1.084646</td>\n",
              "      <td>0.455063</td>\n",
              "      <td>-0.595561</td>\n",
              "      <td>-0.361515</td>\n",
              "      <td>0.069828</td>\n",
              "      <td>-0.086693</td>\n",
              "      <td>-0.291910</td>\n",
              "      <td>-0.848371</td>\n",
              "      <td>0.076693</td>\n",
              "      <td>-0.124014</td>\n",
              "      <td>0.278886</td>\n",
              "      <td>0.125990</td>\n",
              "      <td>-0.030685</td>\n",
              "      <td>0.013646</td>\n",
              "      <td>-0.282401</td>\n",
              "      <td>0</td>\n",
              "    </tr>\n",
              "    <tr>\n",
              "      <th>150295</th>\n",
              "      <td>0.097428</td>\n",
              "      <td>2.045364</td>\n",
              "      <td>-0.299853</td>\n",
              "      <td>-0.513844</td>\n",
              "      <td>0.490228</td>\n",
              "      <td>-0.210895</td>\n",
              "      <td>0.031482</td>\n",
              "      <td>-0.679271</td>\n",
              "      <td>-0.104368</td>\n",
              "      <td>2.760035</td>\n",
              "      <td>-0.548524</td>\n",
              "      <td>-0.895892</td>\n",
              "      <td>-2.134388</td>\n",
              "      <td>2.368206</td>\n",
              "      <td>1.089301</td>\n",
              "      <td>-0.234637</td>\n",
              "      <td>0.326563</td>\n",
              "      <td>-0.167174</td>\n",
              "      <td>0.755773</td>\n",
              "      <td>-0.049416</td>\n",
              "      <td>-0.197630</td>\n",
              "      <td>-0.018010</td>\n",
              "      <td>0.474950</td>\n",
              "      <td>-0.005344</td>\n",
              "      <td>-1.027380</td>\n",
              "      <td>0.031966</td>\n",
              "      <td>-0.191122</td>\n",
              "      <td>0.015914</td>\n",
              "      <td>-0.051745</td>\n",
              "      <td>-0.125900</td>\n",
              "      <td>0</td>\n",
              "    </tr>\n",
              "    <tr>\n",
              "      <th>93899</th>\n",
              "      <td>-0.235611</td>\n",
              "      <td>-0.329882</td>\n",
              "      <td>0.948924</td>\n",
              "      <td>0.930639</td>\n",
              "      <td>-0.143105</td>\n",
              "      <td>0.422714</td>\n",
              "      <td>-0.142072</td>\n",
              "      <td>0.496805</td>\n",
              "      <td>0.208572</td>\n",
              "      <td>-0.091974</td>\n",
              "      <td>-0.502930</td>\n",
              "      <td>-0.927389</td>\n",
              "      <td>-1.133127</td>\n",
              "      <td>-1.468384</td>\n",
              "      <td>-0.107826</td>\n",
              "      <td>1.384312</td>\n",
              "      <td>0.380434</td>\n",
              "      <td>0.120170</td>\n",
              "      <td>-0.144314</td>\n",
              "      <td>-0.164193</td>\n",
              "      <td>-0.008370</td>\n",
              "      <td>-0.304748</td>\n",
              "      <td>-0.846746</td>\n",
              "      <td>-0.060360</td>\n",
              "      <td>-0.749705</td>\n",
              "      <td>-0.194958</td>\n",
              "      <td>0.152296</td>\n",
              "      <td>0.250968</td>\n",
              "      <td>0.083698</td>\n",
              "      <td>-0.294977</td>\n",
              "      <td>0</td>\n",
              "    </tr>\n",
              "    <tr>\n",
              "      <th>...</th>\n",
              "      <td>...</td>\n",
              "      <td>...</td>\n",
              "      <td>...</td>\n",
              "      <td>...</td>\n",
              "      <td>...</td>\n",
              "      <td>...</td>\n",
              "      <td>...</td>\n",
              "      <td>...</td>\n",
              "      <td>...</td>\n",
              "      <td>...</td>\n",
              "      <td>...</td>\n",
              "      <td>...</td>\n",
              "      <td>...</td>\n",
              "      <td>...</td>\n",
              "      <td>...</td>\n",
              "      <td>...</td>\n",
              "      <td>...</td>\n",
              "      <td>...</td>\n",
              "      <td>...</td>\n",
              "      <td>...</td>\n",
              "      <td>...</td>\n",
              "      <td>...</td>\n",
              "      <td>...</td>\n",
              "      <td>...</td>\n",
              "      <td>...</td>\n",
              "      <td>...</td>\n",
              "      <td>...</td>\n",
              "      <td>...</td>\n",
              "      <td>...</td>\n",
              "      <td>...</td>\n",
              "      <td>...</td>\n",
              "    </tr>\n",
              "    <tr>\n",
              "      <th>42674</th>\n",
              "      <td>-0.511026</td>\n",
              "      <td>-7.896886</td>\n",
              "      <td>5.381020</td>\n",
              "      <td>-8.451162</td>\n",
              "      <td>7.963928</td>\n",
              "      <td>-7.862419</td>\n",
              "      <td>-2.376820</td>\n",
              "      <td>-11.949723</td>\n",
              "      <td>5.051356</td>\n",
              "      <td>-6.912076</td>\n",
              "      <td>-11.589748</td>\n",
              "      <td>6.645201</td>\n",
              "      <td>-13.542096</td>\n",
              "      <td>0.888248</td>\n",
              "      <td>-12.623316</td>\n",
              "      <td>1.002755</td>\n",
              "      <td>-12.432279</td>\n",
              "      <td>-23.241597</td>\n",
              "      <td>-8.495299</td>\n",
              "      <td>3.453943</td>\n",
              "      <td>0.645974</td>\n",
              "      <td>2.557944</td>\n",
              "      <td>0.926278</td>\n",
              "      <td>0.032795</td>\n",
              "      <td>0.638073</td>\n",
              "      <td>0.361887</td>\n",
              "      <td>0.444577</td>\n",
              "      <td>1.101923</td>\n",
              "      <td>0.205958</td>\n",
              "      <td>-0.286173</td>\n",
              "      <td>1</td>\n",
              "    </tr>\n",
              "    <tr>\n",
              "      <th>33276</th>\n",
              "      <td>-0.558336</td>\n",
              "      <td>-7.923891</td>\n",
              "      <td>-5.198360</td>\n",
              "      <td>-3.000024</td>\n",
              "      <td>4.420666</td>\n",
              "      <td>2.272194</td>\n",
              "      <td>-3.394483</td>\n",
              "      <td>-5.283435</td>\n",
              "      <td>0.131619</td>\n",
              "      <td>0.658176</td>\n",
              "      <td>-0.794994</td>\n",
              "      <td>3.266066</td>\n",
              "      <td>-2.719185</td>\n",
              "      <td>-0.124104</td>\n",
              "      <td>-5.274866</td>\n",
              "      <td>0.638575</td>\n",
              "      <td>-2.995830</td>\n",
              "      <td>-4.698433</td>\n",
              "      <td>-1.711871</td>\n",
              "      <td>3.025261</td>\n",
              "      <td>-2.169811</td>\n",
              "      <td>-0.734308</td>\n",
              "      <td>-0.599926</td>\n",
              "      <td>-4.908301</td>\n",
              "      <td>0.410170</td>\n",
              "      <td>-1.167660</td>\n",
              "      <td>0.520508</td>\n",
              "      <td>1.937421</td>\n",
              "      <td>-1.552593</td>\n",
              "      <td>-0.135401</td>\n",
              "      <td>1</td>\n",
              "    </tr>\n",
              "    <tr>\n",
              "      <th>182992</th>\n",
              "      <td>0.480739</td>\n",
              "      <td>1.889618</td>\n",
              "      <td>1.073099</td>\n",
              "      <td>-1.678018</td>\n",
              "      <td>4.173268</td>\n",
              "      <td>1.015516</td>\n",
              "      <td>-0.009389</td>\n",
              "      <td>-0.079706</td>\n",
              "      <td>0.064071</td>\n",
              "      <td>-0.714517</td>\n",
              "      <td>0.042228</td>\n",
              "      <td>-0.408403</td>\n",
              "      <td>-0.929370</td>\n",
              "      <td>0.058686</td>\n",
              "      <td>-3.512845</td>\n",
              "      <td>-0.164613</td>\n",
              "      <td>2.069853</td>\n",
              "      <td>1.733382</td>\n",
              "      <td>1.580758</td>\n",
              "      <td>-2.335185</td>\n",
              "      <td>-0.153570</td>\n",
              "      <td>0.203728</td>\n",
              "      <td>0.733796</td>\n",
              "      <td>-0.036560</td>\n",
              "      <td>0.334306</td>\n",
              "      <td>0.147171</td>\n",
              "      <td>0.279556</td>\n",
              "      <td>0.031669</td>\n",
              "      <td>0.035883</td>\n",
              "      <td>-0.262419</td>\n",
              "      <td>1</td>\n",
              "    </tr>\n",
              "    <tr>\n",
              "      <th>154697</th>\n",
              "      <td>0.210682</td>\n",
              "      <td>-4.221221</td>\n",
              "      <td>2.871121</td>\n",
              "      <td>-5.888716</td>\n",
              "      <td>6.890952</td>\n",
              "      <td>-3.404894</td>\n",
              "      <td>-1.154394</td>\n",
              "      <td>-7.739928</td>\n",
              "      <td>2.851363</td>\n",
              "      <td>-2.507569</td>\n",
              "      <td>-5.110728</td>\n",
              "      <td>5.350890</td>\n",
              "      <td>-9.299807</td>\n",
              "      <td>2.793140</td>\n",
              "      <td>-6.106552</td>\n",
              "      <td>-2.106947</td>\n",
              "      <td>-6.250629</td>\n",
              "      <td>-13.566325</td>\n",
              "      <td>-4.192780</td>\n",
              "      <td>0.510570</td>\n",
              "      <td>-0.227882</td>\n",
              "      <td>1.620591</td>\n",
              "      <td>1.567947</td>\n",
              "      <td>-0.578007</td>\n",
              "      <td>-0.059045</td>\n",
              "      <td>-1.829169</td>\n",
              "      <td>-0.072429</td>\n",
              "      <td>0.136734</td>\n",
              "      <td>-0.599848</td>\n",
              "      <td>-0.201355</td>\n",
              "      <td>1</td>\n",
              "    </tr>\n",
              "    <tr>\n",
              "      <th>226814</th>\n",
              "      <td>0.706258</td>\n",
              "      <td>-2.405207</td>\n",
              "      <td>2.943823</td>\n",
              "      <td>-7.616654</td>\n",
              "      <td>3.533374</td>\n",
              "      <td>-5.417494</td>\n",
              "      <td>-0.112632</td>\n",
              "      <td>-1.329372</td>\n",
              "      <td>1.709417</td>\n",
              "      <td>-2.322716</td>\n",
              "      <td>-6.540989</td>\n",
              "      <td>4.404578</td>\n",
              "      <td>-4.938159</td>\n",
              "      <td>-0.740985</td>\n",
              "      <td>-7.462961</td>\n",
              "      <td>0.534968</td>\n",
              "      <td>-4.671032</td>\n",
              "      <td>-4.472403</td>\n",
              "      <td>-0.982090</td>\n",
              "      <td>3.490069</td>\n",
              "      <td>-0.338707</td>\n",
              "      <td>0.652683</td>\n",
              "      <td>0.414132</td>\n",
              "      <td>0.023869</td>\n",
              "      <td>-0.260616</td>\n",
              "      <td>0.405316</td>\n",
              "      <td>0.029107</td>\n",
              "      <td>0.519807</td>\n",
              "      <td>-0.469537</td>\n",
              "      <td>9.020471</td>\n",
              "      <td>1</td>\n",
              "    </tr>\n",
              "  </tbody>\n",
              "</table>\n",
              "<p>804 rows × 31 columns</p>\n",
              "</div>"
            ],
            "text/plain": [
              "            Time        V1        V2  ...       V28    Amount  Class\n",
              "87268  -0.271209 -0.523557  0.419637  ...  0.180463  0.418221      0\n",
              "208581  0.616678  2.097934 -0.006747  ... -0.063178 -0.181793      0\n",
              "71437  -0.357100  1.295257  0.226208  ...  0.013646 -0.282401      0\n",
              "150295  0.097428  2.045364 -0.299853  ... -0.051745 -0.125900      0\n",
              "93899  -0.235611 -0.329882  0.948924  ...  0.083698 -0.294977      0\n",
              "...          ...       ...       ...  ...       ...       ...    ...\n",
              "42674  -0.511026 -7.896886  5.381020  ...  0.205958 -0.286173      1\n",
              "33276  -0.558336 -7.923891 -5.198360  ... -1.552593 -0.135401      1\n",
              "182992  0.480739  1.889618  1.073099  ...  0.035883 -0.262419      1\n",
              "154697  0.210682 -4.221221  2.871121  ... -0.599848 -0.201355      1\n",
              "226814  0.706258 -2.405207  2.943823  ... -0.469537  9.020471      1\n",
              "\n",
              "[804 rows x 31 columns]"
            ]
          },
          "metadata": {
            "tags": []
          },
          "execution_count": 47
        }
      ]
    },
    {
      "cell_type": "code",
      "metadata": {
        "id": "HvTwG3hcEWZ3",
        "colab_type": "code",
        "colab": {}
      },
      "source": [
        "us_cc = us_cc.reset_index(drop=True)"
      ],
      "execution_count": 0,
      "outputs": []
    },
    {
      "cell_type": "code",
      "metadata": {
        "scrolled": true,
        "id": "dKfQBTnuEWZ6",
        "colab_type": "code",
        "colab": {
          "base_uri": "https://localhost:8080/",
          "height": 296
        },
        "outputId": "6d16a58e-2264-4e6a-f116-d848e862c59f"
      },
      "source": [
        "sns.countplot(us_cc['Class'])"
      ],
      "execution_count": 49,
      "outputs": [
        {
          "output_type": "execute_result",
          "data": {
            "text/plain": [
              "<matplotlib.axes._subplots.AxesSubplot at 0x7f327f8cae10>"
            ]
          },
          "metadata": {
            "tags": []
          },
          "execution_count": 49
        },
        {
          "output_type": "display_data",
          "data": {
            "image/png": "[encoded data removed]",
            "text/plain": [
              "<Figure size 432x288 with 1 Axes>"
            ]
          },
          "metadata": {
            "tags": [],
            "needs_background": "light"
          }
        }
      ]
    },
    {
      "cell_type": "code",
      "metadata": {
        "scrolled": false,
        "id": "UihDSbGhEWZ-",
        "colab_type": "code",
        "colab": {
          "base_uri": "https://localhost:8080/",
          "height": 638
        },
        "outputId": "79bf86fa-de3f-4579-9186-7fde023758f7"
      },
      "source": [
        "SSS_corr = us_cc.corr()\n",
        "plt.figure(figsize=(15,10))\n",
        "sns.heatmap(SSS_corr, annot_kws={'size':20})\n",
        "plt.title('Correlation Matrix Stratified Subsampling', fontsize=14)\n",
        "plt.show()"
      ],
      "execution_count": 50,
      "outputs": [
        {
          "output_type": "display_data",
          "data": {
            "image/png": "[encoded data removed]",
            "text/plain": [
              "<Figure size 1080x720 with 2 Axes>"
            ]
          },
          "metadata": {
            "tags": [],
            "needs_background": "light"
          }
        }
      ]
    },
    {
      "cell_type": "code",
      "metadata": {
        "id": "LUU4OpO5EWaC",
        "colab_type": "code",
        "colab": {}
      },
      "source": [
        "X_train_us = us_cc.drop(['Class'],axis=1)\n",
        "Y_train_us = us_cc['Class']"
      ],
      "execution_count": 0,
      "outputs": []
    },
    {
      "cell_type": "code",
      "metadata": {
        "colab_type": "code",
        "id": "2gSdBLGMp7i6",
        "colab": {}
      },
      "source": [
        "log_params = {\"penalty\": ['l1', 'l2'], 'C': [0.001, 0.01, 0.1, 1, 10, 100, 1000]}"
      ],
      "execution_count": 0,
      "outputs": []
    },
    {
      "cell_type": "code",
      "metadata": {
        "colab_type": "code",
        "outputId": "8097b30b-2919-4fcd-8f72-069316c6a6f8",
        "id": "SI2JKi6np7jM",
        "colab": {
          "base_uri": "https://localhost:8080/",
          "height": 50
        }
      },
      "source": [
        "log_model = GridSearchCV(LogisticRegression(), log_params,cv=5, n_jobs=-1,scoring='recall')\n",
        "log_model.fit(X_train_us,Y_train_us)\n",
        "print(log_model.best_params_)\n",
        "print(log_model.best_score_)"
      ],
      "execution_count": 53,
      "outputs": [
        {
          "output_type": "stream",
          "text": [
            "{'C': 1000, 'penalty': 'l2'}\n",
            "0.9163583252190847\n"
          ],
          "name": "stdout"
        }
      ]
    },
    {
      "cell_type": "code",
      "metadata": {
        "colab_type": "code",
        "id": "yMqqRQ8pp7jY",
        "colab": {}
      },
      "source": [
        "log_model = LogisticRegression(C=1000,penalty='l2',random_state=42)\n",
        "log_model.fit(X_train_us, Y_train_us)\n",
        "\n",
        "y_score = log_model.predict_proba(X_test)"
      ],
      "execution_count": 0,
      "outputs": []
    },
    {
      "cell_type": "code",
      "metadata": {
        "colab_type": "code",
        "outputId": "9f30cee6-738d-40e2-ecf8-ba8b4a55b2cb",
        "id": "STkUy3LTp7jh",
        "colab": {
          "base_uri": "https://localhost:8080/",
          "height": 34
        }
      },
      "source": [
        "y_pred = log_model.predict(X_test)\n",
        "Logit_test = metrics.recall_score(Y_test, y_pred)\n",
        "print(\"Logistic test score:\",Logit_test)"
      ],
      "execution_count": 55,
      "outputs": [
        {
          "output_type": "stream",
          "text": [
            "Logistic test score: 0.9387755102040817\n"
          ],
          "name": "stdout"
        }
      ]
    },
    {
      "cell_type": "code",
      "metadata": {
        "colab_type": "code",
        "outputId": "63cedbb7-dcd4-4557-ed78-d2294d11984f",
        "id": "HL9be2msp7jz",
        "colab": {
          "base_uri": "https://localhost:8080/",
          "height": 791
        }
      },
      "source": [
        "conf_mat = confusion_matrix(Y_test, y_pred)\n",
        "accuracy = accuracy_score(Y_test, y_pred)\n",
        "score = precision_recall_fscore_support(Y_test, y_pred, average='weighted')\n",
        "precision, recall, fscore, k = score\n",
        "skplt.metrics.plot_confusion_matrix(Y_test, y_pred)\n",
        "skplt.metrics.plot_precision_recall_curve(Y_test, y_score)\n",
        "print(classification_report(Y_test, y_pred))\n",
        "print(\"Accuracy:\",accuracy)\n",
        "print(\"Precision:\",precision)\n",
        "print(\"Recall:\",recall)\n",
        "print(\"F score:\",fscore)"
      ],
      "execution_count": 56,
      "outputs": [
        {
          "output_type": "stream",
          "text": [
            "              precision    recall  f1-score   support\n",
            "\n",
            "           0       1.00      0.96      0.98     56864\n",
            "           1       0.04      0.94      0.07        98\n",
            "\n",
            "    accuracy                           0.96     56962\n",
            "   macro avg       0.52      0.95      0.52     56962\n",
            "weighted avg       1.00      0.96      0.98     56962\n",
            "\n",
            "Accuracy: 0.9572522032232015\n",
            "Precision: 0.9982323183386048\n",
            "Recall: 0.9572522032232015\n",
            "F score: 0.9765612390228968\n"
          ],
          "name": "stdout"
        },
        {
          "output_type": "display_data",
          "data": {
            "image/png": "[encoded data removed]",
            "text/plain": [
              "<Figure size 432x288 with 2 Axes>"
            ]
          },
          "metadata": {
            "tags": [],
            "needs_background": "light"
          }
        },
        {
          "output_type": "display_data",
          "data": {
            "image/png": "[encoded data removed]",
            "text/plain": [
              "<Figure size 432x288 with 1 Axes>"
            ]
          },
          "metadata": {
            "tags": [],
            "needs_background": "light"
          }
        }
      ]
    },
    {
      "cell_type": "code",
      "metadata": {
        "colab_type": "code",
        "id": "y5-_AaJ7p7kM",
        "colab": {}
      },
      "source": [
        "from bayes_opt import BayesianOptimization\n",
        "import xgboost as xgb"
      ],
      "execution_count": 0,
      "outputs": []
    },
    {
      "cell_type": "code",
      "metadata": {
        "colab_type": "code",
        "outputId": "66b996f4-28dc-4a1f-c342-fb5b40081049",
        "id": "V75SlDaop7kV",
        "colab": {
          "base_uri": "https://localhost:8080/",
          "height": 286
        }
      },
      "source": [
        "dtrain = xgb.DMatrix(X_train_us, label=Y_train_us)\n",
        "\n",
        "#Bayesian Optimization function for xgboost\n",
        "#specify the parameters you want to tune as keyword arguments\n",
        "def bo_tune_xgb(max_depth, gamma, n_estimators ,learning_rate):\n",
        "  params = {'max_depth': int(max_depth),\n",
        "              'gamma': gamma,\n",
        "              'n_estimators': int(n_estimators),\n",
        "              'learning_rate':learning_rate,\n",
        "              'subsample': 0.8,\n",
        "              'eta': 0.1,\n",
        "              'eval_metric': 'auc'}\n",
        "    #Cross validating with the specified parameters in 5 folds and 70 iterations\n",
        "  cv_result = xgb.cv(params, dtrain, num_boost_round=70, nfold=5)\n",
        "    #Return the auc\n",
        "  return cv_result['test-auc-mean'].iloc[-1]\n",
        "\n",
        "#Invoking the Bayesian Optimizer with the specified parameters to tune\n",
        "xgb_bo = BayesianOptimization(bo_tune_xgb, {'max_depth': (3, 10),\n",
        "                                             'gamma': (0, 1),\n",
        "                                             'learning_rate':(0,1),\n",
        "                                             'n_estimators':(100,1000)\n",
        "                                            })\n",
        "\n",
        "#performing Bayesian optimization for 5 iterations with 8 steps of random exploration with an #acquisition function of expected improvement\n",
        "xgb_bo.maximize(n_iter=5, init_points=8, acq='ei')"
      ],
      "execution_count": 58,
      "outputs": [
        {
          "output_type": "stream",
          "text": [
            "|   iter    |  target   |   gamma   | learni... | max_depth | n_esti... |\n",
            "-------------------------------------------------------------------------\n",
            "| \u001b[0m 1       \u001b[0m | \u001b[0m 0.9744  \u001b[0m | \u001b[0m 0.9945  \u001b[0m | \u001b[0m 0.2718  \u001b[0m | \u001b[0m 5.48    \u001b[0m | \u001b[0m 267.8   \u001b[0m |\n",
            "| \u001b[0m 2       \u001b[0m | \u001b[0m 0.9711  \u001b[0m | \u001b[0m 0.2038  \u001b[0m | \u001b[0m 0.3606  \u001b[0m | \u001b[0m 6.025   \u001b[0m | \u001b[0m 466.4   \u001b[0m |\n",
            "| \u001b[0m 3       \u001b[0m | \u001b[0m 0.9531  \u001b[0m | \u001b[0m 0.6257  \u001b[0m | \u001b[0m 0.9874  \u001b[0m | \u001b[0m 5.822   \u001b[0m | \u001b[0m 615.7   \u001b[0m |\n",
            "| \u001b[0m 4       \u001b[0m | \u001b[0m 0.9585  \u001b[0m | \u001b[0m 0.6763  \u001b[0m | \u001b[0m 0.7167  \u001b[0m | \u001b[0m 3.267   \u001b[0m | \u001b[0m 543.0   \u001b[0m |\n",
            "| \u001b[95m 5       \u001b[0m | \u001b[95m 0.9777  \u001b[0m | \u001b[95m 0.9604  \u001b[0m | \u001b[95m 0.3262  \u001b[0m | \u001b[95m 9.874   \u001b[0m | \u001b[95m 331.5   \u001b[0m |\n",
            "| \u001b[0m 6       \u001b[0m | \u001b[0m 0.9759  \u001b[0m | \u001b[0m 0.5116  \u001b[0m | \u001b[0m 0.0839  \u001b[0m | \u001b[0m 5.247   \u001b[0m | \u001b[0m 985.5   \u001b[0m |\n",
            "| \u001b[0m 7       \u001b[0m | \u001b[0m 0.9432  \u001b[0m | \u001b[0m 0.2714  \u001b[0m | \u001b[0m 0.8681  \u001b[0m | \u001b[0m 5.062   \u001b[0m | \u001b[0m 640.9   \u001b[0m |\n",
            "| \u001b[0m 8       \u001b[0m | \u001b[0m 0.9561  \u001b[0m | \u001b[0m 0.02713 \u001b[0m | \u001b[0m 0.5378  \u001b[0m | \u001b[0m 3.57    \u001b[0m | \u001b[0m 153.7   \u001b[0m |\n",
            "| \u001b[0m 9       \u001b[0m | \u001b[0m 0.945   \u001b[0m | \u001b[0m 0.7468  \u001b[0m | \u001b[0m 0.9036  \u001b[0m | \u001b[0m 5.93    \u001b[0m | \u001b[0m 344.1   \u001b[0m |\n",
            "| \u001b[0m 10      \u001b[0m | \u001b[0m 0.5     \u001b[0m | \u001b[0m 1.0     \u001b[0m | \u001b[0m 0.0     \u001b[0m | \u001b[0m 10.0    \u001b[0m | \u001b[0m 228.4   \u001b[0m |\n",
            "| \u001b[95m 11      \u001b[0m | \u001b[95m 0.9781  \u001b[0m | \u001b[95m 0.7763  \u001b[0m | \u001b[95m 0.168   \u001b[0m | \u001b[95m 7.476   \u001b[0m | \u001b[95m 331.4   \u001b[0m |\n",
            "| \u001b[0m 12      \u001b[0m | \u001b[0m 0.9451  \u001b[0m | \u001b[0m 0.0     \u001b[0m | \u001b[0m 1.0     \u001b[0m | \u001b[0m 3.0     \u001b[0m | \u001b[0m 100.0   \u001b[0m |\n",
            "| \u001b[0m 13      \u001b[0m | \u001b[0m 0.9502  \u001b[0m | \u001b[0m 1.0     \u001b[0m | \u001b[0m 1.0     \u001b[0m | \u001b[0m 10.0    \u001b[0m | \u001b[0m 831.7   \u001b[0m |\n",
            "=========================================================================\n"
          ],
          "name": "stdout"
        }
      ]
    },
    {
      "cell_type": "code",
      "metadata": {
        "colab_type": "code",
        "id": "A-W7SOpYp7kf",
        "colab": {}
      },
      "source": [
        "xgb_model = xgb.XGBClassifier(n_estimators=331,learning_rate=0.17,gamma=0.77,max_depth=7)\n",
        "xgb_model.fit(X_train_us, Y_train_us)\n",
        "\n",
        "y_score = xgb_model.predict_proba(X_test)"
      ],
      "execution_count": 0,
      "outputs": []
    },
    {
      "cell_type": "code",
      "metadata": {
        "colab_type": "code",
        "outputId": "3ddb7da8-6c5f-42b0-cccc-b563a8897c5c",
        "id": "I67pbEVRp7ko",
        "colab": {
          "base_uri": "https://localhost:8080/",
          "height": 34
        }
      },
      "source": [
        "y_pred = xgb_model.predict(X_test)\n",
        "xgb_test = metrics.recall_score(Y_test, y_pred)\n",
        "print(\"XGB test score:\",xgb_test)"
      ],
      "execution_count": 60,
      "outputs": [
        {
          "output_type": "stream",
          "text": [
            "XGB test score: 0.9387755102040817\n"
          ],
          "name": "stdout"
        }
      ]
    },
    {
      "cell_type": "code",
      "metadata": {
        "colab_type": "code",
        "outputId": "b67cbb49-96ad-4845-913b-797ac032d7c8",
        "id": "PtFk6uzMp7k4",
        "colab": {
          "base_uri": "https://localhost:8080/",
          "height": 791
        }
      },
      "source": [
        "conf_mat = confusion_matrix(Y_test, y_pred)\n",
        "accuracy = accuracy_score(Y_test, y_pred)\n",
        "score = precision_recall_fscore_support(Y_test, y_pred, average='weighted')\n",
        "precision, recall, fscore, k = score\n",
        "skplt.metrics.plot_confusion_matrix(Y_test, y_pred)\n",
        "skplt.metrics.plot_precision_recall_curve(Y_test, y_score)\n",
        "print(classification_report(Y_test, y_pred))\n",
        "print(\"Accuracy:\",accuracy)\n",
        "print(\"Precision:\",precision)\n",
        "print(\"Recall:\",recall)\n",
        "print(\"F score:\",fscore)"
      ],
      "execution_count": 61,
      "outputs": [
        {
          "output_type": "stream",
          "text": [
            "              precision    recall  f1-score   support\n",
            "\n",
            "           0       1.00      0.96      0.98     56864\n",
            "           1       0.04      0.94      0.07        98\n",
            "\n",
            "    accuracy                           0.96     56962\n",
            "   macro avg       0.52      0.95      0.53     56962\n",
            "weighted avg       1.00      0.96      0.98     56962\n",
            "\n",
            "Accuracy: 0.9599557599803378\n",
            "Precision: 0.9982367135543927\n",
            "Recall: 0.9599557599803378\n",
            "F score: 0.9779782619349479\n"
          ],
          "name": "stdout"
        },
        {
          "output_type": "display_data",
          "data": {
            "image/png": "[encoded data removed]",
            "text/plain": [
              "<Figure size 432x288 with 2 Axes>"
            ]
          },
          "metadata": {
            "tags": [],
            "needs_background": "light"
          }
        },
        {
          "output_type": "display_data",
          "data": {
            "image/png": "[encoded data removed]",
            "text/plain": [
              "<Figure size 432x288 with 1 Axes>"
            ]
          },
          "metadata": {
            "tags": [],
            "needs_background": "light"
          }
        }
      ]
    },
    {
      "cell_type": "markdown",
      "metadata": {
        "id": "lCVKi-cNteut",
        "colab_type": "text"
      },
      "source": [
        "### Oversampling Class 1"
      ]
    },
    {
      "cell_type": "code",
      "metadata": {
        "id": "NHimJ6_yEWa8",
        "colab_type": "code",
        "colab": {}
      },
      "source": [
        "sm = SMOTE(random_state = 2) \n",
        "X_train_os, Y_train_os = sm.fit_sample(X_train, Y_train.ravel())"
      ],
      "execution_count": 0,
      "outputs": []
    },
    {
      "cell_type": "code",
      "metadata": {
        "id": "C-tWOBGMEWa-",
        "colab_type": "code",
        "colab": {
          "base_uri": "https://localhost:8080/",
          "height": 101
        },
        "outputId": "a8c5fca6-8b7a-48cc-d92a-073d1ed7ab8c"
      },
      "source": [
        "print('After OverSampling, the shape of train_X: {}'.format(X_train_os.shape)) \n",
        "print('After OverSampling, the shape of train_y: {} \\n'.format(Y_train_os.shape)) \n",
        "  \n",
        "print(\"After OverSampling, counts of label '1': {}\".format(sum(Y_train_os == 1))) \n",
        "print(\"After OverSampling, counts of label '0': {}\".format(sum(Y_train_os == 0))) "
      ],
      "execution_count": 71,
      "outputs": [
        {
          "output_type": "stream",
          "text": [
            "After OverSampling, the shape of train_X: (454902, 30)\n",
            "After OverSampling, the shape of train_y: (454902,) \n",
            "\n",
            "After OverSampling, counts of label '1': 227451\n",
            "After OverSampling, counts of label '0': 227451\n"
          ],
          "name": "stdout"
        }
      ]
    },
    {
      "cell_type": "code",
      "metadata": {
        "colab_type": "code",
        "id": "RP1SWGDKt1hn",
        "colab": {}
      },
      "source": [
        "log_params = {\"penalty\": ['l1', 'l2'], 'C': [0.001, 0.01, 0.1, 1, 10, 100, 1000]}"
      ],
      "execution_count": 0,
      "outputs": []
    },
    {
      "cell_type": "code",
      "metadata": {
        "colab_type": "code",
        "outputId": "92529e8f-c50e-453a-ed6a-fb25d41c7d29",
        "id": "fkBbs0mtt1hq",
        "colab": {
          "base_uri": "https://localhost:8080/",
          "height": 50
        }
      },
      "source": [
        "log_model = GridSearchCV(LogisticRegression(), log_params,cv=5, n_jobs=-1,scoring='recall')\n",
        "log_model.fit(X_train_os,Y_train_os)\n",
        "print(log_model.best_params_)\n",
        "print(log_model.best_score_)"
      ],
      "execution_count": 74,
      "outputs": [
        {
          "output_type": "stream",
          "text": [
            "{'C': 10, 'penalty': 'l2'}\n",
            "0.9609190382929069\n"
          ],
          "name": "stdout"
        }
      ]
    },
    {
      "cell_type": "code",
      "metadata": {
        "colab_type": "code",
        "id": "AptS0CJHt1ht",
        "colab": {}
      },
      "source": [
        "log_model = LogisticRegression(C=10,penalty='l2',random_state=42)\n",
        "log_model.fit(X_train_os, Y_train_os)\n",
        "\n",
        "y_score = log_model.predict_proba(X_test)"
      ],
      "execution_count": 0,
      "outputs": []
    },
    {
      "cell_type": "code",
      "metadata": {
        "colab_type": "code",
        "outputId": "c89176dc-f944-486d-f516-f5f041f960b6",
        "id": "Gfml_5i8t1hv",
        "colab": {
          "base_uri": "https://localhost:8080/",
          "height": 34
        }
      },
      "source": [
        "y_pred = log_model.predict(X_test)\n",
        "Logit_test = metrics.recall_score(Y_test, y_pred)\n",
        "print(\"Logistic test score:\",Logit_test)"
      ],
      "execution_count": 76,
      "outputs": [
        {
          "output_type": "stream",
          "text": [
            "Logistic test score: 0.9693877551020408\n"
          ],
          "name": "stdout"
        }
      ]
    },
    {
      "cell_type": "code",
      "metadata": {
        "colab_type": "code",
        "outputId": "3cc26691-4ed2-40f5-cd43-22c99015d85b",
        "id": "smAtfVZkt1hx",
        "colab": {
          "base_uri": "https://localhost:8080/",
          "height": 791
        }
      },
      "source": [
        "conf_mat = confusion_matrix(Y_test, y_pred)\n",
        "accuracy = accuracy_score(Y_test, y_pred)\n",
        "score = precision_recall_fscore_support(Y_test, y_pred, average='weighted')\n",
        "precision, recall, fscore, k = score\n",
        "skplt.metrics.plot_confusion_matrix(Y_test, y_pred)\n",
        "skplt.metrics.plot_precision_recall_curve(Y_test, y_score)\n",
        "print(classification_report(Y_test, y_pred))\n",
        "print(\"Accuracy:\",accuracy)\n",
        "print(\"Precision:\",precision)\n",
        "print(\"Recall:\",recall)\n",
        "print(\"F score:\",fscore)"
      ],
      "execution_count": 77,
      "outputs": [
        {
          "output_type": "stream",
          "text": [
            "              precision    recall  f1-score   support\n",
            "\n",
            "           0       1.00      0.63      0.78     56864\n",
            "           1       0.00      0.97      0.01        98\n",
            "\n",
            "    accuracy                           0.63     56962\n",
            "   macro avg       0.50      0.80      0.39     56962\n",
            "weighted avg       1.00      0.63      0.77     56962\n",
            "\n",
            "Accuracy: 0.633422281521014\n",
            "Precision: 0.9982041323870647\n",
            "Recall: 0.633422281521014\n",
            "F score: 0.7737996251149887\n"
          ],
          "name": "stdout"
        },
        {
          "output_type": "display_data",
          "data": {
            "image/png": "[encoded data removed]",
            "text/plain": [
              "<Figure size 432x288 with 2 Axes>"
            ]
          },
          "metadata": {
            "tags": [],
            "needs_background": "light"
          }
        },
        {
          "output_type": "display_data",
          "data": {
            "image/png": "[encoded data removed]",
            "text/plain": [
              "<Figure size 432x288 with 1 Axes>"
            ]
          },
          "metadata": {
            "tags": [],
            "needs_background": "light"
          }
        }
      ]
    },
    {
      "cell_type": "code",
      "metadata": {
        "colab_type": "code",
        "id": "nk98ZQ_dt1hz",
        "colab": {}
      },
      "source": [
        "from bayes_opt import BayesianOptimization\n",
        "import xgboost as xgb"
      ],
      "execution_count": 0,
      "outputs": []
    },
    {
      "cell_type": "code",
      "metadata": {
        "colab_type": "code",
        "id": "9Z4eZoCCt1h2",
        "colab": {}
      },
      "source": [
        "dtrain = xgb.DMatrix(X_train_os, label=Y_train_os)\n",
        "\n",
        "#Bayesian Optimization function for xgboost\n",
        "#specify the parameters you want to tune as keyword arguments\n",
        "def bo_tune_xgb(max_depth, gamma, n_estimators ,learning_rate):\n",
        "  params = {'max_depth': int(max_depth),\n",
        "              'gamma': gamma,\n",
        "              'n_estimators': int(n_estimators),\n",
        "              'learning_rate':learning_rate,\n",
        "              'subsample': 0.8,\n",
        "              'eta': 0.1,\n",
        "              'eval_metric': 'auc'}\n",
        "    #Cross validating with the specified parameters in 5 folds and 70 iterations\n",
        "  cv_result = xgb.cv(params, dtrain, num_boost_round=70, nfold=5)\n",
        "    #Return the auc\n",
        "  return cv_result['test-auc-mean'].iloc[-1]\n",
        "\n",
        "#Invoking the Bayesian Optimizer with the specified parameters to tune\n",
        "xgb_bo = BayesianOptimization(bo_tune_xgb, {'max_depth': (3, 10),\n",
        "                                             'gamma': (0, 1),\n",
        "                                             'learning_rate':(0,1),\n",
        "                                             'n_estimators':(100,1000)\n",
        "                                            })\n",
        "\n",
        "#performing Bayesian optimization for 5 iterations with 8 steps of random exploration with an #acquisition function of expected improvement\n",
        "xgb_bo.maximize(n_iter=5, init_points=8, acq='ei')"
      ],
      "execution_count": 0,
      "outputs": []
    },
    {
      "cell_type": "code",
      "metadata": {
        "colab_type": "code",
        "id": "7slClGOMt1h4",
        "colab": {}
      },
      "source": [
        "X_test2 = X_test.to_numpy()"
      ],
      "execution_count": 0,
      "outputs": []
    },
    {
      "cell_type": "code",
      "metadata": {
        "id": "-SoypU1THrfI",
        "colab_type": "code",
        "colab": {}
      },
      "source": [
        "xgb_model = xgb.XGBClassifier(n_estimators=559,learning_rate=0.19,gamma=0.54,max_depth=8)\n",
        "xgb_model.fit(X_train_os, Y_train_os)\n",
        "\n",
        "y_score = xgb_model.predict_proba(X_test2)"
      ],
      "execution_count": 0,
      "outputs": []
    },
    {
      "cell_type": "code",
      "metadata": {
        "colab_type": "code",
        "outputId": "03323bac-3edb-483b-dea3-cdb4136736be",
        "id": "vk7B0F4qt1h6",
        "colab": {
          "base_uri": "https://localhost:8080/",
          "height": 34
        }
      },
      "source": [
        "y_pred = xgb_model.predict(X_test2)\n",
        "xgb_test = metrics.recall_score(Y_test, y_pred)\n",
        "print(\"XGB test score:\",xgb_test)"
      ],
      "execution_count": 88,
      "outputs": [
        {
          "output_type": "stream",
          "text": [
            "XGB test score: 0.8673469387755102\n"
          ],
          "name": "stdout"
        }
      ]
    },
    {
      "cell_type": "code",
      "metadata": {
        "colab_type": "code",
        "outputId": "674ef8a6-c538-458a-e14f-e13a34d0399c",
        "id": "kQLwhw6Kt1h7",
        "colab": {
          "base_uri": "https://localhost:8080/",
          "height": 791
        }
      },
      "source": [
        "conf_mat = confusion_matrix(Y_test, y_pred)\n",
        "accuracy = accuracy_score(Y_test, y_pred)\n",
        "score = precision_recall_fscore_support(Y_test, y_pred, average='weighted')\n",
        "precision, recall, fscore, k = score\n",
        "skplt.metrics.plot_confusion_matrix(Y_test, y_pred)\n",
        "skplt.metrics.plot_precision_recall_curve(Y_test, y_score)\n",
        "print(classification_report(Y_test, y_pred))\n",
        "print(\"Accuracy:\",accuracy)\n",
        "print(\"Precision:\",precision)\n",
        "print(\"Recall:\",recall)\n",
        "print(\"F score:\",fscore)"
      ],
      "execution_count": 89,
      "outputs": [
        {
          "output_type": "stream",
          "text": [
            "              precision    recall  f1-score   support\n",
            "\n",
            "           0       1.00      1.00      1.00     56864\n",
            "           1       0.86      0.87      0.86        98\n",
            "\n",
            "    accuracy                           1.00     56962\n",
            "   macro avg       0.93      0.93      0.93     56962\n",
            "weighted avg       1.00      1.00      1.00     56962\n",
            "\n",
            "Accuracy: 0.9995259997893332\n",
            "Precision: 0.9995284783807056\n",
            "Recall: 0.9995259997893332\n",
            "F score: 0.9995272007516144\n"
          ],
          "name": "stdout"
        },
        {
          "output_type": "display_data",
          "data": {
            "image/png": "[encoded data removed]",
            "text/plain": [
              "<Figure size 432x288 with 2 Axes>"
            ]
          },
          "metadata": {
            "tags": [],
            "needs_background": "light"
          }
        },
        {
          "output_type": "display_data",
          "data": {
            "image/png": "[encoded data removed]",
            "text/plain": [
              "<Figure size 432x288 with 1 Axes>"
            ]
          },
          "metadata": {
            "tags": [],
            "needs_background": "light"
          }
        }
      ]
    },
    {
      "cell_type": "markdown",
      "metadata": {
        "id": "fAbnTFsoIJFt",
        "colab_type": "text"
      },
      "source": [
        "XGboost is again doing a really good job wrt both precision and recall "
      ]
    },
    {
      "cell_type": "markdown",
      "metadata": {
        "colab_type": "text",
        "id": "d5_SShbNt1h9"
      },
      "source": [
        "### Undersampling class 0 and Oversampling Class 1"
      ]
    },
    {
      "cell_type": "markdown",
      "metadata": {
        "id": "2vy4oJ6jxDH3",
        "colab_type": "text"
      },
      "source": [
        "First undersampling the Class 0 to 4000 samples"
      ]
    },
    {
      "cell_type": "code",
      "metadata": {
        "colab_type": "code",
        "id": "0m9YjCToxAfD",
        "colab": {}
      },
      "source": [
        "cc_0 = pd.concat([X_train,Y_train],axis=1)"
      ],
      "execution_count": 0,
      "outputs": []
    },
    {
      "cell_type": "code",
      "metadata": {
        "colab_type": "code",
        "id": "BqX6S2SpxAfG",
        "colab": {}
      },
      "source": [
        "cc_1 = cc_0[cc_0['Class']==1]\n",
        "cc_0 = cc_0[cc_0['Class']==0]"
      ],
      "execution_count": 0,
      "outputs": []
    },
    {
      "cell_type": "markdown",
      "metadata": {
        "colab_type": "text",
        "id": "H1LaPOGBxAfI"
      },
      "source": [
        "We can take a random sample of size 4000 from the class 0."
      ]
    },
    {
      "cell_type": "code",
      "metadata": {
        "colab_type": "code",
        "outputId": "978e1bc7-6c3a-4355-ca1c-00c2043058dd",
        "id": "XRlwwzQ4xAfK",
        "colab": {
          "base_uri": "https://localhost:8080/",
          "height": 215
        }
      },
      "source": [
        "split = StratifiedShuffleSplit(n_splits=1, test_size=0.018, random_state=42)\n",
        "for train_index, test_index in split.split(cc_0, cc_0['Class']):\n",
        "    strat_train_set = cc_0.iloc[train_index,:]\n",
        "    strat_test_set = cc_0.iloc[test_index,:]\n",
        "strat_test_set.head()"
      ],
      "execution_count": 92,
      "outputs": [
        {
          "output_type": "execute_result",
          "data": {
            "text/html": [
              "<div>\n",
              "<style scoped>\n",
              "    .dataframe tbody tr th:only-of-type {\n",
              "        vertical-align: middle;\n",
              "    }\n",
              "\n",
              "    .dataframe tbody tr th {\n",
              "        vertical-align: top;\n",
              "    }\n",
              "\n",
              "    .dataframe thead th {\n",
              "        text-align: right;\n",
              "    }\n",
              "</style>\n",
              "<table border=\"1\" class=\"dataframe\">\n",
              "  <thead>\n",
              "    <tr style=\"text-align: right;\">\n",
              "      <th></th>\n",
              "      <th>Time</th>\n",
              "      <th>V1</th>\n",
              "      <th>V2</th>\n",
              "      <th>V3</th>\n",
              "      <th>V4</th>\n",
              "      <th>V5</th>\n",
              "      <th>V6</th>\n",
              "      <th>V7</th>\n",
              "      <th>V8</th>\n",
              "      <th>V9</th>\n",
              "      <th>V10</th>\n",
              "      <th>V11</th>\n",
              "      <th>V12</th>\n",
              "      <th>V13</th>\n",
              "      <th>V14</th>\n",
              "      <th>V15</th>\n",
              "      <th>V16</th>\n",
              "      <th>V17</th>\n",
              "      <th>V18</th>\n",
              "      <th>V19</th>\n",
              "      <th>V20</th>\n",
              "      <th>V21</th>\n",
              "      <th>V22</th>\n",
              "      <th>V23</th>\n",
              "      <th>V24</th>\n",
              "      <th>V25</th>\n",
              "      <th>V26</th>\n",
              "      <th>V27</th>\n",
              "      <th>V28</th>\n",
              "      <th>Amount</th>\n",
              "      <th>Class</th>\n",
              "    </tr>\n",
              "  </thead>\n",
              "  <tbody>\n",
              "    <tr>\n",
              "      <th>100989</th>\n",
              "      <td>67690.0</td>\n",
              "      <td>-1.905138</td>\n",
              "      <td>-0.792979</td>\n",
              "      <td>2.360774</td>\n",
              "      <td>1.442906</td>\n",
              "      <td>0.077575</td>\n",
              "      <td>1.108080</td>\n",
              "      <td>-0.113350</td>\n",
              "      <td>0.511466</td>\n",
              "      <td>-0.232651</td>\n",
              "      <td>-0.203129</td>\n",
              "      <td>1.362718</td>\n",
              "      <td>0.574035</td>\n",
              "      <td>-0.326452</td>\n",
              "      <td>-0.015438</td>\n",
              "      <td>0.938306</td>\n",
              "      <td>-0.516136</td>\n",
              "      <td>0.286336</td>\n",
              "      <td>0.179057</td>\n",
              "      <td>0.330925</td>\n",
              "      <td>0.017309</td>\n",
              "      <td>0.269802</td>\n",
              "      <td>1.032237</td>\n",
              "      <td>0.478889</td>\n",
              "      <td>-0.279127</td>\n",
              "      <td>0.291162</td>\n",
              "      <td>-0.003338</td>\n",
              "      <td>0.121772</td>\n",
              "      <td>0.085971</td>\n",
              "      <td>159.00</td>\n",
              "      <td>0</td>\n",
              "    </tr>\n",
              "    <tr>\n",
              "      <th>6677</th>\n",
              "      <td>8276.0</td>\n",
              "      <td>-1.795407</td>\n",
              "      <td>0.042141</td>\n",
              "      <td>2.411993</td>\n",
              "      <td>-2.419381</td>\n",
              "      <td>-0.845119</td>\n",
              "      <td>-0.591750</td>\n",
              "      <td>0.196952</td>\n",
              "      <td>0.002359</td>\n",
              "      <td>2.754128</td>\n",
              "      <td>-1.813778</td>\n",
              "      <td>1.243133</td>\n",
              "      <td>-1.610769</td>\n",
              "      <td>2.499055</td>\n",
              "      <td>0.839129</td>\n",
              "      <td>1.005643</td>\n",
              "      <td>-0.068008</td>\n",
              "      <td>0.262105</td>\n",
              "      <td>0.235553</td>\n",
              "      <td>-1.216443</td>\n",
              "      <td>0.062980</td>\n",
              "      <td>0.087356</td>\n",
              "      <td>0.901703</td>\n",
              "      <td>-0.025541</td>\n",
              "      <td>0.409396</td>\n",
              "      <td>0.472974</td>\n",
              "      <td>-0.026417</td>\n",
              "      <td>0.291909</td>\n",
              "      <td>0.300954</td>\n",
              "      <td>106.18</td>\n",
              "      <td>0</td>\n",
              "    </tr>\n",
              "    <tr>\n",
              "      <th>279033</th>\n",
              "      <td>168603.0</td>\n",
              "      <td>-1.147594</td>\n",
              "      <td>-1.278808</td>\n",
              "      <td>1.848793</td>\n",
              "      <td>0.969610</td>\n",
              "      <td>0.301449</td>\n",
              "      <td>0.826650</td>\n",
              "      <td>-0.991076</td>\n",
              "      <td>0.541451</td>\n",
              "      <td>2.031641</td>\n",
              "      <td>-0.668701</td>\n",
              "      <td>-3.099319</td>\n",
              "      <td>-0.151003</td>\n",
              "      <td>-0.506790</td>\n",
              "      <td>-1.395662</td>\n",
              "      <td>-1.826082</td>\n",
              "      <td>0.164940</td>\n",
              "      <td>-0.543046</td>\n",
              "      <td>0.753613</td>\n",
              "      <td>0.162125</td>\n",
              "      <td>-0.450875</td>\n",
              "      <td>0.044233</td>\n",
              "      <td>0.947157</td>\n",
              "      <td>0.817392</td>\n",
              "      <td>-1.019822</td>\n",
              "      <td>-0.001110</td>\n",
              "      <td>-0.449703</td>\n",
              "      <td>0.233072</td>\n",
              "      <td>-0.063968</td>\n",
              "      <td>1.00</td>\n",
              "      <td>0</td>\n",
              "    </tr>\n",
              "    <tr>\n",
              "      <th>233838</th>\n",
              "      <td>147725.0</td>\n",
              "      <td>-0.470859</td>\n",
              "      <td>1.608739</td>\n",
              "      <td>-0.871851</td>\n",
              "      <td>0.985544</td>\n",
              "      <td>0.975322</td>\n",
              "      <td>-0.324118</td>\n",
              "      <td>1.224721</td>\n",
              "      <td>-0.172985</td>\n",
              "      <td>-1.492305</td>\n",
              "      <td>-0.096591</td>\n",
              "      <td>1.479980</td>\n",
              "      <td>0.669952</td>\n",
              "      <td>0.846034</td>\n",
              "      <td>-0.584864</td>\n",
              "      <td>0.327190</td>\n",
              "      <td>-1.163311</td>\n",
              "      <td>1.645633</td>\n",
              "      <td>0.690804</td>\n",
              "      <td>2.999636</td>\n",
              "      <td>0.276333</td>\n",
              "      <td>0.176448</td>\n",
              "      <td>0.729257</td>\n",
              "      <td>-0.363761</td>\n",
              "      <td>0.801226</td>\n",
              "      <td>0.175285</td>\n",
              "      <td>1.063565</td>\n",
              "      <td>-0.448536</td>\n",
              "      <td>-0.138970</td>\n",
              "      <td>42.81</td>\n",
              "      <td>0</td>\n",
              "    </tr>\n",
              "    <tr>\n",
              "      <th>165910</th>\n",
              "      <td>117745.0</td>\n",
              "      <td>1.823869</td>\n",
              "      <td>-1.133080</td>\n",
              "      <td>-2.412713</td>\n",
              "      <td>-0.649289</td>\n",
              "      <td>0.625340</td>\n",
              "      <td>0.601398</td>\n",
              "      <td>0.106402</td>\n",
              "      <td>0.013514</td>\n",
              "      <td>-1.052035</td>\n",
              "      <td>0.945401</td>\n",
              "      <td>0.645073</td>\n",
              "      <td>0.464803</td>\n",
              "      <td>-0.259792</td>\n",
              "      <td>0.784375</td>\n",
              "      <td>-0.309474</td>\n",
              "      <td>-2.602826</td>\n",
              "      <td>0.557637</td>\n",
              "      <td>-0.025756</td>\n",
              "      <td>-1.183276</td>\n",
              "      <td>-0.435350</td>\n",
              "      <td>-0.092079</td>\n",
              "      <td>0.133090</td>\n",
              "      <td>-0.075003</td>\n",
              "      <td>-1.587680</td>\n",
              "      <td>0.013894</td>\n",
              "      <td>0.926856</td>\n",
              "      <td>-0.081195</td>\n",
              "      <td>-0.084515</td>\n",
              "      <td>149.90</td>\n",
              "      <td>0</td>\n",
              "    </tr>\n",
              "  </tbody>\n",
              "</table>\n",
              "</div>"
            ],
            "text/plain": [
              "            Time        V1        V2  ...       V28  Amount  Class\n",
              "100989   67690.0 -1.905138 -0.792979  ...  0.085971  159.00      0\n",
              "6677      8276.0 -1.795407  0.042141  ...  0.300954  106.18      0\n",
              "279033  168603.0 -1.147594 -1.278808  ... -0.063968    1.00      0\n",
              "233838  147725.0 -0.470859  1.608739  ... -0.138970   42.81      0\n",
              "165910  117745.0  1.823869 -1.133080  ... -0.084515  149.90      0\n",
              "\n",
              "[5 rows x 31 columns]"
            ]
          },
          "metadata": {
            "tags": []
          },
          "execution_count": 92
        }
      ]
    },
    {
      "cell_type": "code",
      "metadata": {
        "colab_type": "code",
        "id": "gXPXNZz6xAfP",
        "colab": {}
      },
      "source": [
        "us_cc = pd.concat([strat_test_set, cc_1])"
      ],
      "execution_count": 0,
      "outputs": []
    },
    {
      "cell_type": "code",
      "metadata": {
        "colab_type": "code",
        "id": "YQaK3Iy7xAfT",
        "colab": {}
      },
      "source": [
        "us_cc = us_cc.reset_index(drop=True)"
      ],
      "execution_count": 0,
      "outputs": []
    },
    {
      "cell_type": "code",
      "metadata": {
        "id": "hm3DzR4BxyRG",
        "colab_type": "code",
        "colab": {}
      },
      "source": [
        "X_us_cc = us_cc.drop(['Class'],axis=1)\n",
        "Y_us_cc = us_cc['Class']"
      ],
      "execution_count": 0,
      "outputs": []
    },
    {
      "cell_type": "code",
      "metadata": {
        "colab_type": "code",
        "id": "c4GWkzQvxrHh",
        "colab": {}
      },
      "source": [
        "sm = SMOTE(random_state = 2) \n",
        "X_train_os, Y_train_os = sm.fit_sample(X_us_cc, Y_us_cc.ravel())"
      ],
      "execution_count": 0,
      "outputs": []
    },
    {
      "cell_type": "code",
      "metadata": {
        "colab_type": "code",
        "outputId": "abf07130-9a54-42df-a124-ee286859b532",
        "id": "wyfGupTFxrHk",
        "colab": {
          "base_uri": "https://localhost:8080/",
          "height": 101
        }
      },
      "source": [
        "print('After OverSampling, the shape of train_X: {}'.format(X_train_os.shape)) \n",
        "print('After OverSampling, the shape of train_y: {} \\n'.format(Y_train_os.shape)) \n",
        "  \n",
        "print(\"After OverSampling, counts of label '1': {}\".format(sum(Y_train_os == 1))) \n",
        "print(\"After OverSampling, counts of label '0': {}\".format(sum(Y_train_os == 0))) "
      ],
      "execution_count": 98,
      "outputs": [
        {
          "output_type": "stream",
          "text": [
            "After OverSampling, the shape of train_X: (8190, 30)\n",
            "After OverSampling, the shape of train_y: (8190,) \n",
            "\n",
            "After OverSampling, counts of label '1': 4095\n",
            "After OverSampling, counts of label '0': 4095\n"
          ],
          "name": "stdout"
        }
      ]
    },
    {
      "cell_type": "code",
      "metadata": {
        "colab_type": "code",
        "id": "wzQPKohZxrHo",
        "colab": {}
      },
      "source": [
        "log_params = {\"penalty\": ['l1', 'l2'], 'C': [0.001, 0.01, 0.1, 1, 10, 100, 1000]}"
      ],
      "execution_count": 0,
      "outputs": []
    },
    {
      "cell_type": "code",
      "metadata": {
        "colab_type": "code",
        "outputId": "88b23c82-59e4-46cb-f057-8a3e0a70c411",
        "id": "nASHQT2lxrHp",
        "colab": {
          "base_uri": "https://localhost:8080/",
          "height": 50
        }
      },
      "source": [
        "log_model = GridSearchCV(LogisticRegression(), log_params,cv=5, n_jobs=-1,scoring='recall')\n",
        "log_model.fit(X_train_os,Y_train_os)\n",
        "print(log_model.best_params_)\n",
        "print(log_model.best_score_)"
      ],
      "execution_count": 100,
      "outputs": [
        {
          "output_type": "stream",
          "text": [
            "{'C': 1000, 'penalty': 'l2'}\n",
            "0.9594627594627594\n"
          ],
          "name": "stdout"
        }
      ]
    },
    {
      "cell_type": "code",
      "metadata": {
        "colab_type": "code",
        "id": "iTxa5HcKxrHr",
        "colab": {}
      },
      "source": [
        "log_model = LogisticRegression(C=1000,penalty='l2',random_state=42)\n",
        "log_model.fit(X_train_os, Y_train_os)\n",
        "\n",
        "y_score = log_model.predict_proba(X_test)"
      ],
      "execution_count": 0,
      "outputs": []
    },
    {
      "cell_type": "code",
      "metadata": {
        "colab_type": "code",
        "outputId": "088b114f-c22c-472f-b4b6-ddfb52b156e8",
        "id": "pFUPmOmgxrHt",
        "colab": {
          "base_uri": "https://localhost:8080/",
          "height": 34
        }
      },
      "source": [
        "y_pred = log_model.predict(X_test)\n",
        "Logit_test = metrics.recall_score(Y_test, y_pred)\n",
        "print(\"Logistic test score:\",Logit_test)"
      ],
      "execution_count": 103,
      "outputs": [
        {
          "output_type": "stream",
          "text": [
            "Logistic test score: 0.9795918367346939\n"
          ],
          "name": "stdout"
        }
      ]
    },
    {
      "cell_type": "code",
      "metadata": {
        "colab_type": "code",
        "outputId": "452111e2-5c5f-4e85-cd9e-8c7c9539d5b9",
        "id": "KeQAgPg4xrHw",
        "colab": {
          "base_uri": "https://localhost:8080/",
          "height": 791
        }
      },
      "source": [
        "conf_mat = confusion_matrix(Y_test, y_pred)\n",
        "accuracy = accuracy_score(Y_test, y_pred)\n",
        "score = precision_recall_fscore_support(Y_test, y_pred, average='weighted')\n",
        "precision, recall, fscore, k = score\n",
        "skplt.metrics.plot_confusion_matrix(Y_test, y_pred)\n",
        "skplt.metrics.plot_precision_recall_curve(Y_test, y_score)\n",
        "print(classification_report(Y_test, y_pred))\n",
        "print(\"Accuracy:\",accuracy)\n",
        "print(\"Precision:\",precision)\n",
        "print(\"Recall:\",recall)\n",
        "print(\"F score:\",fscore)"
      ],
      "execution_count": 104,
      "outputs": [
        {
          "output_type": "stream",
          "text": [
            "              precision    recall  f1-score   support\n",
            "\n",
            "           0       1.00      0.67      0.80     56864\n",
            "           1       0.01      0.98      0.01        98\n",
            "\n",
            "    accuracy                           0.67     56962\n",
            "   macro avg       0.50      0.83      0.41     56962\n",
            "weighted avg       1.00      0.67      0.80     56962\n",
            "\n",
            "Accuracy: 0.6727818545697132\n",
            "Precision: 0.9982361451671266\n",
            "Recall: 0.6727818545697132\n",
            "F score: 0.8026261992300863\n"
          ],
          "name": "stdout"
        },
        {
          "output_type": "display_data",
          "data": {
            "image/png": "[encoded data removed]",
            "text/plain": [
              "<Figure size 432x288 with 2 Axes>"
            ]
          },
          "metadata": {
            "tags": [],
            "needs_background": "light"
          }
        },
        {
          "output_type": "display_data",
          "data": {
            "image/png": "[encoded data removed]",
            "text/plain": [
              "<Figure size 432x288 with 1 Axes>"
            ]
          },
          "metadata": {
            "tags": [],
            "needs_background": "light"
          }
        }
      ]
    },
    {
      "cell_type": "code",
      "metadata": {
        "colab_type": "code",
        "id": "azEBBeLCxrHy",
        "colab": {}
      },
      "source": [
        "from bayes_opt import BayesianOptimization\n",
        "import xgboost as xgb"
      ],
      "execution_count": 0,
      "outputs": []
    },
    {
      "cell_type": "code",
      "metadata": {
        "colab_type": "code",
        "outputId": "f696e273-72dc-4435-8af0-32475d84241e",
        "id": "9hvyQz-xxrH0",
        "colab": {
          "base_uri": "https://localhost:8080/",
          "height": 286
        }
      },
      "source": [
        "dtrain = xgb.DMatrix(X_train_os, label=Y_train_os)\n",
        "\n",
        "#Bayesian Optimization function for xgboost\n",
        "#specify the parameters you want to tune as keyword arguments\n",
        "def bo_tune_xgb(max_depth, gamma, n_estimators ,learning_rate):\n",
        "  params = {'max_depth': int(max_depth),\n",
        "              'gamma': gamma,\n",
        "              'n_estimators': int(n_estimators),\n",
        "              'learning_rate':learning_rate,\n",
        "              'subsample': 0.8,\n",
        "              'eta': 0.1,\n",
        "              'eval_metric': 'auc'}\n",
        "    #Cross validating with the specified parameters in 5 folds and 70 iterations\n",
        "  cv_result = xgb.cv(params, dtrain, num_boost_round=70, nfold=5)\n",
        "    #Return the auc\n",
        "  return cv_result['test-auc-mean'].iloc[-1]\n",
        "\n",
        "#Invoking the Bayesian Optimizer with the specified parameters to tune\n",
        "xgb_bo = BayesianOptimization(bo_tune_xgb, {'max_depth': (3, 10),\n",
        "                                             'gamma': (0, 1),\n",
        "                                             'learning_rate':(0,1),\n",
        "                                             'n_estimators':(100,1000)\n",
        "                                            })\n",
        "\n",
        "#performing Bayesian optimization for 5 iterations with 8 steps of random exploration with an #acquisition function of expected improvement\n",
        "xgb_bo.maximize(n_iter=5, init_points=8, acq='ei')"
      ],
      "execution_count": 106,
      "outputs": [
        {
          "output_type": "stream",
          "text": [
            "|   iter    |  target   |   gamma   | learni... | max_depth | n_esti... |\n",
            "-------------------------------------------------------------------------\n",
            "| \u001b[0m 1       \u001b[0m | \u001b[0m 0.9963  \u001b[0m | \u001b[0m 0.7544  \u001b[0m | \u001b[0m 0.462   \u001b[0m | \u001b[0m 8.855   \u001b[0m | \u001b[0m 720.1   \u001b[0m |\n",
            "| \u001b[0m 2       \u001b[0m | \u001b[0m 0.9942  \u001b[0m | \u001b[0m 0.3196  \u001b[0m | \u001b[0m 0.7914  \u001b[0m | \u001b[0m 7.532   \u001b[0m | \u001b[0m 982.5   \u001b[0m |\n",
            "| \u001b[0m 3       \u001b[0m | \u001b[0m 0.9941  \u001b[0m | \u001b[0m 0.7588  \u001b[0m | \u001b[0m 0.7741  \u001b[0m | \u001b[0m 6.999   \u001b[0m | \u001b[0m 976.4   \u001b[0m |\n",
            "| \u001b[0m 4       \u001b[0m | \u001b[0m 0.9928  \u001b[0m | \u001b[0m 0.4804  \u001b[0m | \u001b[0m 0.914   \u001b[0m | \u001b[0m 5.334   \u001b[0m | \u001b[0m 447.6   \u001b[0m |\n",
            "| \u001b[0m 5       \u001b[0m | \u001b[0m 0.9906  \u001b[0m | \u001b[0m 0.08403 \u001b[0m | \u001b[0m 0.956   \u001b[0m | \u001b[0m 6.989   \u001b[0m | \u001b[0m 436.1   \u001b[0m |\n",
            "| \u001b[0m 6       \u001b[0m | \u001b[0m 0.9931  \u001b[0m | \u001b[0m 0.3381  \u001b[0m | \u001b[0m 0.9205  \u001b[0m | \u001b[0m 4.437   \u001b[0m | \u001b[0m 303.9   \u001b[0m |\n",
            "| \u001b[0m 7       \u001b[0m | \u001b[0m 0.9959  \u001b[0m | \u001b[0m 0.4424  \u001b[0m | \u001b[0m 0.5403  \u001b[0m | \u001b[0m 3.03    \u001b[0m | \u001b[0m 768.5   \u001b[0m |\n",
            "| \u001b[0m 8       \u001b[0m | \u001b[0m 0.992   \u001b[0m | \u001b[0m 0.7937  \u001b[0m | \u001b[0m 0.9378  \u001b[0m | \u001b[0m 9.322   \u001b[0m | \u001b[0m 409.1   \u001b[0m |\n",
            "| \u001b[0m 9       \u001b[0m | \u001b[0m 0.9924  \u001b[0m | \u001b[0m 0.8145  \u001b[0m | \u001b[0m 0.953   \u001b[0m | \u001b[0m 3.082   \u001b[0m | \u001b[0m 999.9   \u001b[0m |\n",
            "| \u001b[95m 10      \u001b[0m | \u001b[95m 0.9979  \u001b[0m | \u001b[95m 0.6556  \u001b[0m | \u001b[95m 0.03058 \u001b[0m | \u001b[95m 9.095   \u001b[0m | \u001b[95m 100.2   \u001b[0m |\n",
            "| \u001b[0m 11      \u001b[0m | \u001b[0m 0.9954  \u001b[0m | \u001b[0m 0.4082  \u001b[0m | \u001b[0m 0.7009  \u001b[0m | \u001b[0m 3.159   \u001b[0m | \u001b[0m 100.6   \u001b[0m |\n",
            "| \u001b[0m 12      \u001b[0m | \u001b[0m 0.9973  \u001b[0m | \u001b[0m 0.3345  \u001b[0m | \u001b[0m 0.3683  \u001b[0m | \u001b[0m 9.888   \u001b[0m | \u001b[0m 101.8   \u001b[0m |\n",
            "| \u001b[0m 13      \u001b[0m | \u001b[0m 0.9967  \u001b[0m | \u001b[0m 0.6006  \u001b[0m | \u001b[0m 0.4655  \u001b[0m | \u001b[0m 9.933   \u001b[0m | \u001b[0m 101.6   \u001b[0m |\n",
            "=========================================================================\n"
          ],
          "name": "stdout"
        }
      ]
    },
    {
      "cell_type": "code",
      "metadata": {
        "colab_type": "code",
        "id": "Ch4uBeCKxrH2",
        "colab": {}
      },
      "source": [
        "xgb_model = xgb.XGBClassifier(n_estimators=100,learning_rate=0.03,gamma=0.66,max_depth=9)\n",
        "xgb_model.fit(X_train_os, Y_train_os)\n",
        "\n",
        "y_score = xgb_model.predict_proba(X_test2)"
      ],
      "execution_count": 0,
      "outputs": []
    },
    {
      "cell_type": "code",
      "metadata": {
        "colab_type": "code",
        "outputId": "50d32a86-534b-40d9-80cb-bbcab1fc2954",
        "id": "EAI4PVXOxrH6",
        "colab": {
          "base_uri": "https://localhost:8080/",
          "height": 34
        }
      },
      "source": [
        "y_pred = xgb_model.predict(X_test2)\n",
        "xgb_test = metrics.recall_score(Y_test, y_pred)\n",
        "print(\"XGB test score:\",xgb_test)"
      ],
      "execution_count": 108,
      "outputs": [
        {
          "output_type": "stream",
          "text": [
            "XGB test score: 0.8877551020408163\n"
          ],
          "name": "stdout"
        }
      ]
    },
    {
      "cell_type": "code",
      "metadata": {
        "colab_type": "code",
        "outputId": "c38b0427-7ec8-4386-8e88-6a8ed939c908",
        "id": "qKkjXMEvxrH9",
        "colab": {
          "base_uri": "https://localhost:8080/",
          "height": 791
        }
      },
      "source": [
        "conf_mat = confusion_matrix(Y_test, y_pred)\n",
        "accuracy = accuracy_score(Y_test, y_pred)\n",
        "score = precision_recall_fscore_support(Y_test, y_pred, average='weighted')\n",
        "precision, recall, fscore, k = score\n",
        "skplt.metrics.plot_confusion_matrix(Y_test, y_pred)\n",
        "skplt.metrics.plot_precision_recall_curve(Y_test, y_score)\n",
        "print(classification_report(Y_test, y_pred))\n",
        "print(\"Accuracy:\",accuracy)\n",
        "print(\"Precision:\",precision)\n",
        "print(\"Recall:\",recall)\n",
        "print(\"F score:\",fscore)"
      ],
      "execution_count": 109,
      "outputs": [
        {
          "output_type": "stream",
          "text": [
            "              precision    recall  f1-score   support\n",
            "\n",
            "           0       1.00      0.99      1.00     56864\n",
            "           1       0.16      0.89      0.27        98\n",
            "\n",
            "    accuracy                           0.99     56962\n",
            "   macro avg       0.58      0.94      0.63     56962\n",
            "weighted avg       1.00      0.99      0.99     56962\n",
            "\n",
            "Accuracy: 0.9916962185316527\n",
            "Precision: 0.9983575386033132\n",
            "Recall: 0.9916962185316527\n",
            "F score: 0.9945738191768203\n"
          ],
          "name": "stdout"
        },
        {
          "output_type": "display_data",
          "data": {
            "image/png": "[encoded data removed]",
            "text/plain": [
              "<Figure size 432x288 with 2 Axes>"
            ]
          },
          "metadata": {
            "tags": [],
            "needs_background": "light"
          }
        },
        {
          "output_type": "display_data",
          "data": {
            "image/png": "[encoded data removed]",
            "text/plain": [
              "<Figure size 432x288 with 1 Axes>"
            ]
          },
          "metadata": {
            "tags": [],
            "needs_background": "light"
          }
        }
      ]
    },
    {
      "cell_type": "markdown",
      "metadata": {
        "id": "M8GtOC6fPsGO",
        "colab_type": "text"
      },
      "source": [
        "## Conclusion\n",
        "\n",
        "Using the SMOTE technique we are able to improve the recall and at the same timemaintain a good precision score"
      ]
    },
    {
      "cell_type": "code",
      "metadata": {
        "id": "h6XlbHJEJcug",
        "colab_type": "code",
        "colab": {}
      },
      "source": [
        ""
      ],
      "execution_count": 0,
      "outputs": []
    }
  ]
}